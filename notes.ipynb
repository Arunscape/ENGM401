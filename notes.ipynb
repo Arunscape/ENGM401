{
 "metadata": {
  "language_info": {
   "codemirror_mode": {
    "name": "ipython",
    "version": 3
   },
   "file_extension": ".py",
   "mimetype": "text/x-python",
   "name": "python",
   "nbconvert_exporter": "python",
   "pygments_lexer": "ipython3",
   "version": "3.9.1-final"
  },
  "orig_nbformat": 2,
  "kernelspec": {
   "name": "python3",
   "display_name": "Python 3",
   "language": "python"
  }
 },
 "nbformat": 4,
 "nbformat_minor": 2,
 "cells": [
  {
   "cell_type": "code",
   "execution_count": 1,
   "metadata": {},
   "outputs": [],
   "source": [
    "\n",
    "from util import *\n",
    "from IPython.core.interactiveshell import InteractiveShell\n",
    "\n",
    "InteractiveShell.ast_node_interactivity = \"all\"\n"
   ]
  },
  {
   "source": [
    "Chapter 3"
   ],
   "cell_type": "markdown",
   "metadata": {}
  },
  {
   "cell_type": "code",
   "execution_count": 2,
   "metadata": {},
   "outputs": [
    {
     "output_type": "execute_result",
     "data": {
      "text/plain": [
       "320.734566118339"
      ]
     },
     "metadata": {},
     "execution_count": 2
    }
   ],
   "source": [
    "a = single_present(5000, 0.06, 1)\n",
    "b = single_present(6000, 0.06, 3)\n",
    "b-a"
   ]
  },
  {
   "cell_type": "code",
   "execution_count": 3,
   "metadata": {},
   "outputs": [
    {
     "output_type": "execute_result",
     "data": {
      "text/plain": [
       "4407.984230400001"
      ]
     },
     "metadata": {},
     "execution_count": 3
    }
   ],
   "source": [
    "# future worth after n years at i interest\n",
    "single_future(3000, 0.08, 5)"
   ]
  },
  {
   "cell_type": "code",
   "execution_count": 4,
   "metadata": {},
   "outputs": [
    {
     "output_type": "execute_result",
     "data": {
      "text/plain": [
       "5045.5371900826485"
      ]
     },
     "metadata": {},
     "execution_count": 4
    }
   ],
   "source": [
    "a = eq_present(1000, 0.1, 5)\n",
    "b = single_future(a, 0.1, 3)\n",
    "b"
   ]
  },
  {
   "cell_type": "code",
   "execution_count": 5,
   "metadata": {},
   "outputs": [
    {
     "output_type": "execute_result",
     "data": {
      "text/plain": [
       "0.08685794289921286"
      ]
     },
     "metadata": {},
     "execution_count": 5
    }
   ],
   "source": [
    "single_rate(92, 40, 10)"
   ]
  },
  {
   "cell_type": "code",
   "execution_count": 6,
   "metadata": {},
   "outputs": [
    {
     "output_type": "execute_result",
     "data": {
      "text/plain": [
       "array(9.00646834)"
      ]
     },
     "metadata": {},
     "execution_count": 6
    }
   ],
   "source": [
    "single_periods(20000, 10000, 0.08)"
   ]
  },
  {
   "cell_type": "code",
   "execution_count": 7,
   "metadata": {},
   "outputs": [
    {
     "output_type": "execute_result",
     "data": {
      "text/plain": [
       "5310.2575776"
      ]
     },
     "metadata": {},
     "execution_count": 7
    },
    {
     "output_type": "execute_result",
     "data": {
      "text/plain": [
       "5310.2575776"
      ]
     },
     "metadata": {},
     "execution_count": 7
    }
   ],
   "source": [
    "single_future(1000, 0.06, 5) + single_future(2000, 0.06, 3) + single_future(1500, 0.06, 1)\n",
    "a = 1000 + single_present(2000, 0.06, 2) + single_present(1500, 0.06, 4)\n",
    "single_future(a, 0.06, 5)"
   ]
  },
  {
   "cell_type": "code",
   "execution_count": 8,
   "metadata": {},
   "outputs": [
    {
     "output_type": "execute_result",
     "data": {
      "text/plain": [
       "4421.3628148121625"
      ]
     },
     "metadata": {},
     "execution_count": 8
    }
   ],
   "source": [
    "single_future(2000, 0.12, 7)"
   ]
  },
  {
   "cell_type": "code",
   "execution_count": 9,
   "metadata": {},
   "outputs": [
    {
     "output_type": "execute_result",
     "data": {
      "text/plain": [
       "47.12000000000262"
      ]
     },
     "metadata": {},
     "execution_count": 9
    }
   ],
   "source": [
    "a = single_future(10000, 0.08, 3)\n",
    "a - simple_interest(10000, 0.085, 3)"
   ]
  },
  {
   "cell_type": "code",
   "execution_count": 10,
   "metadata": {},
   "outputs": [
    {
     "output_type": "execute_result",
     "data": {
      "text/plain": [
       "24481.130869580036"
      ]
     },
     "metadata": {},
     "execution_count": 10
    }
   ],
   "source": [
    "eq_future(1500, 0.1, 9) * time_shift(0.1, 1) + single_future(800, 0.1, 10)"
   ]
  },
  {
   "cell_type": "code",
   "execution_count": 11,
   "metadata": {},
   "outputs": [
    {
     "output_type": "execute_result",
     "data": {
      "text/plain": [
       "13586.795822038372"
      ]
     },
     "metadata": {},
     "execution_count": 11
    },
    {
     "output_type": "execute_result",
     "data": {
      "text/plain": [
       "8348.497868002283"
      ]
     },
     "metadata": {},
     "execution_count": 11
    }
   ],
   "source": [
    "A = eq_capital_recovery(100000, 0.06, 10)\n",
    "A\n",
    "b = interest_payment(A, 0.1, 10, 1)\n",
    "b"
   ]
  },
  {
   "cell_type": "code",
   "execution_count": 12,
   "metadata": {},
   "outputs": [
    {
     "output_type": "execute_result",
     "data": {
      "text/plain": [
       "11729.713216670669"
      ]
     },
     "metadata": {},
     "execution_count": 12
    }
   ],
   "source": [
    "eq_future(400, 0.08, 15)*time_shift(0.08, 1)"
   ]
  },
  {
   "cell_type": "code",
   "execution_count": 13,
   "metadata": {},
   "outputs": [
    {
     "output_type": "execute_result",
     "data": {
      "text/plain": [
       "2.0774265472260938"
      ]
     },
     "metadata": {},
     "execution_count": 13
    }
   ],
   "source": [
    "single_future(1, 0.08, 9.5)"
   ]
  },
  {
   "cell_type": "code",
   "execution_count": 14,
   "metadata": {},
   "outputs": [
    {
     "output_type": "execute_result",
     "data": {
      "text/plain": [
       "447.6904831388814"
      ]
     },
     "metadata": {},
     "execution_count": 14
    },
    {
     "output_type": "execute_result",
     "data": {
      "text/plain": [
       "447.6686267083097"
      ]
     },
     "metadata": {},
     "execution_count": 14
    }
   ],
   "source": [
    "single_present(100, 0.1, 1) + single_present(100, 0.1, 2) + single_present(150, 0.1, 3) + single_present(100, 0.1, 4) + single_present(150, 0.1, 5)\n",
    "\n",
    "x = 708.8\n",
    "single_present(100, 0.1, 1) + single_present(x, 0.1, 2) - single_present(x, 0.1, 3) - single_present(200, 0.1, 4) + single_present(x, 0.1, 5)"
   ]
  },
  {
   "cell_type": "code",
   "execution_count": 15,
   "metadata": {},
   "outputs": [
    {
     "output_type": "execute_result",
     "data": {
      "text/plain": [
       "2246.5375845000026"
      ]
     },
     "metadata": {},
     "execution_count": 15
    }
   ],
   "source": [
    "single_future(450, 0.1, 8) + eq_future(200, 0.1, 4) * time_shift(0.1, 1) + eq_present(200, 0.1, 2) * time_shift(0.1, 8) - single_future(300, 0.1, 5)"
   ]
  },
  {
   "cell_type": "code",
   "execution_count": 16,
   "metadata": {},
   "outputs": [
    {
     "output_type": "execute_result",
     "data": {
      "text/plain": [
       "20002.880136512762"
      ]
     },
     "metadata": {},
     "execution_count": 16
    }
   ],
   "source": [
    "x = 4364\n",
    "eq_present(x, 0.1, 8) - single_present(x, 0.1, 3)"
   ]
  },
  {
   "cell_type": "code",
   "execution_count": 17,
   "metadata": {},
   "outputs": [
    {
     "output_type": "execute_result",
     "data": {
      "text/plain": [
       "0.2100000000000002"
      ]
     },
     "metadata": {},
     "execution_count": 17
    },
    {
     "output_type": "execute_result",
     "data": {
      "text/plain": [
       "1517.8499620000002"
      ]
     },
     "metadata": {},
     "execution_count": 17
    }
   ],
   "source": [
    "i = (1+0.1)**2 -1\n",
    "i\n",
    "eq_future(200, i, 5)"
   ]
  },
  {
   "cell_type": "code",
   "execution_count": 18,
   "metadata": {},
   "outputs": [
    {
     "output_type": "execute_result",
     "data": {
      "text/plain": [
       "166884653.55791602"
      ]
     },
     "metadata": {},
     "execution_count": 18
    }
   ],
   "source": [
    "i = 0.039\n",
    "eq_present(10.57 * 10**6, i, 25)"
   ]
  },
  {
   "cell_type": "code",
   "execution_count": 19,
   "metadata": {},
   "outputs": [
    {
     "output_type": "execute_result",
     "data": {
      "text/plain": [
       "20207.188529625793"
      ]
     },
     "metadata": {},
     "execution_count": 19
    }
   ],
   "source": [
    "eq_sinking(200000, 0.06, 8)"
   ]
  },
  {
   "cell_type": "code",
   "execution_count": 20,
   "metadata": {},
   "outputs": [
    {
     "output_type": "execute_result",
     "data": {
      "text/plain": [
       "223194.36447488162"
      ]
     },
     "metadata": {},
     "execution_count": 20
    }
   ],
   "source": [
    "geo_present(30000, 0.05, 0.1, 10)"
   ]
  },
  {
   "cell_type": "code",
   "execution_count": 21,
   "metadata": {},
   "outputs": [
    {
     "output_type": "execute_result",
     "data": {
      "text/plain": [
       "5835.816449294729"
      ]
     },
     "metadata": {},
     "execution_count": 21
    }
   ],
   "source": [
    "eq_present(1000, 0.08, 5) + linear_present(250, 0.08, 5)"
   ]
  },
  {
   "source": [
    "# Chapter 4"
   ],
   "cell_type": "markdown",
   "metadata": {}
  },
  {
   "cell_type": "code",
   "execution_count": 22,
   "metadata": {},
   "outputs": [
    {
     "output_type": "execute_result",
     "data": {
      "text/plain": [
       "0.2387205315755283"
      ]
     },
     "metadata": {},
     "execution_count": 22
    },
    {
     "output_type": "execute_result",
     "data": {
      "text/plain": [
       "0.2387205315755283"
      ]
     },
     "metadata": {},
     "execution_count": 22
    }
   ],
   "source": [
    "ia_APR_per_month_compounded_monthly(0.018)\n",
    "effective_annual_interest_rate(0.018*12, M=12)"
   ]
  },
  {
   "cell_type": "code",
   "execution_count": 23,
   "metadata": {},
   "outputs": [
    {
     "output_type": "execute_result",
     "data": {
      "text/plain": [
       "0.08774796172119137"
      ]
     },
     "metadata": {},
     "execution_count": 23
    },
    {
     "output_type": "execute_result",
     "data": {
      "text/plain": [
       "0.08654180854823812"
      ]
     },
     "metadata": {},
     "execution_count": 23
    },
    {
     "output_type": "execute_result",
     "data": {
      "text/plain": [
       "0.08774796172119137"
      ]
     },
     "metadata": {},
     "execution_count": 23
    },
    {
     "output_type": "execute_result",
     "data": {
      "text/plain": [
       "0.08654180854823812"
      ]
     },
     "metadata": {},
     "execution_count": 23
    }
   ],
   "source": [
    "# r compounded quarterly\n",
    "r = 0.085\n",
    "M=4\n",
    "(1+r/M)**M - 1\n",
    "\n",
    "math.exp(0.083) -1\n",
    "\n",
    "effective_annual_interest_rate(0.085, 4)\n",
    "effective_annual_interest_rate(0.083, math.inf)"
   ]
  },
  {
   "cell_type": "code",
   "execution_count": 24,
   "metadata": {},
   "outputs": [
    {
     "output_type": "execute_result",
     "data": {
      "text/plain": [
       "FiniteSet(0.119999662499442)"
      ],
      "text/latex": "$\\displaystyle \\left\\{0.119999662499442\\right\\}$"
     },
     "metadata": {},
     "execution_count": 24
    },
    {
     "output_type": "execute_result",
     "data": {
      "text/plain": [
       "0.11999966249944216"
      ]
     },
     "metadata": {},
     "execution_count": 24
    },
    {
     "output_type": "execute_result",
     "data": {
      "text/plain": [
       "0.11999966249944216"
      ]
     },
     "metadata": {},
     "execution_count": 24
    }
   ],
   "source": [
    "i = sym.symbols('i')\n",
    "expr = -20000 + eq_present(5548.19, i, 5)\n",
    "solve(expr, i)\n",
    "npf.rate(5, 5548.19, -20000,0)\n",
    "eq_rate(5548.19, 20000, 5)"
   ]
  },
  {
   "cell_type": "code",
   "execution_count": 25,
   "metadata": {},
   "outputs": [
    {
     "output_type": "execute_result",
     "data": {
      "text/plain": [
       "0.022669171875000282"
      ]
     },
     "metadata": {},
     "execution_count": 25
    },
    {
     "output_type": "execute_result",
     "data": {
      "text/plain": [
       "160058.45803804888"
      ]
     },
     "metadata": {},
     "execution_count": 25
    }
   ],
   "source": [
    "# equal quarterly payments => K=4\n",
    "# compounded monthly => M=12\n",
    "# 3 compounding periods per payment period (quarter) => C=3\n",
    "(1+0.09/12)**3 - 1\n",
    "i= effective_rate_per_payment_period(r=0.09, M=12, K=4)\n",
    "i= effective_rate_per_payment_period(r=0.09, M=12, C=3)\n",
    "i= effective_rate_per_payment_period(r=0.09, K=4, C=3)\n",
    "eq_future(2500, i, 10*4)"
   ]
  },
  {
   "cell_type": "code",
   "execution_count": 26,
   "metadata": {},
   "outputs": [
    {
     "output_type": "execute_result",
     "data": {
      "text/plain": [
       "0.020000000000000018"
      ]
     },
     "metadata": {},
     "execution_count": 26
    },
    {
     "output_type": "execute_result",
     "data": {
      "text/plain": [
       "4383.982912903163"
      ]
     },
     "metadata": {},
     "execution_count": 26
    }
   ],
   "source": [
    "# compounded quarterly => M=4\n",
    "# quarterly deposits => K=4\n",
    "i = effective_rate_per_payment_period(r=0.08, M=4, K=4)\n",
    "i\n",
    "eq_sinking(500000, i, 15*4)\n"
   ]
  },
  {
   "cell_type": "code",
   "execution_count": 27,
   "metadata": {},
   "outputs": [
    {
     "output_type": "execute_result",
     "data": {
      "text/plain": [
       "0.05830052442583633"
      ]
     },
     "metadata": {},
     "execution_count": 27
    },
    {
     "output_type": "execute_result",
     "data": {
      "text/plain": [
       "4943.690558962838"
      ]
     },
     "metadata": {},
     "execution_count": 27
    }
   ],
   "source": [
    "i = effective_rate_per_payment_period(r=0.12, K=2, M=1)\n",
    "i\n",
    "eq_present(1000, i, 3*2)"
   ]
  },
  {
   "cell_type": "code",
   "execution_count": 28,
   "metadata": {},
   "outputs": [
    {
     "output_type": "execute_result",
     "data": {
      "text/plain": [
       "0.03526492384423899"
      ]
     },
     "metadata": {},
     "execution_count": 28
    }
   ],
   "source": [
    "i = single_rate(F=2, P=1, N=5*4)\n",
    "i"
   ]
  },
  {
   "cell_type": "code",
   "execution_count": 29,
   "metadata": {},
   "outputs": [
    {
     "output_type": "execute_result",
     "data": {
      "text/plain": [
       "0.022669171875000282"
      ]
     },
     "metadata": {},
     "execution_count": 29
    },
    {
     "output_type": "execute_result",
     "data": {
      "text/plain": [
       "13615.202735169794"
      ]
     },
     "metadata": {},
     "execution_count": 29
    }
   ],
   "source": [
    "i=effective_rate_per_payment_period(r=0.09, M=12, K=4)\n",
    "i\n",
    "\n",
    "eq_future(1000, i, 3*4)"
   ]
  },
  {
   "cell_type": "code",
   "execution_count": 30,
   "metadata": {},
   "outputs": [
    {
     "output_type": "execute_result",
     "data": {
      "text/plain": [
       "0.020201340026755776"
      ]
     },
     "metadata": {},
     "execution_count": 30
    },
    {
     "output_type": "execute_result",
     "data": {
      "text/plain": [
       "16319.707184162722"
      ]
     },
     "metadata": {},
     "execution_count": 30
    }
   ],
   "source": [
    "i=effective_rate_per_payment_period(r=0.08, M=math.inf, K=4)\n",
    "i\n",
    "eq_present(1000, i, 5*4)"
   ]
  },
  {
   "cell_type": "code",
   "execution_count": 31,
   "metadata": {},
   "outputs": [
    {
     "output_type": "execute_result",
     "data": {
      "text/plain": [
       "0.09308331878906229"
      ]
     },
     "metadata": {},
     "execution_count": 31
    },
    {
     "output_type": "execute_result",
     "data": {
      "text/plain": [
       "array(7.78795743)"
      ]
     },
     "metadata": {},
     "execution_count": 31
    }
   ],
   "source": [
    "i = effective_annual_interest_rate(r=0.09, M=4)\n",
    "i\n",
    "single_periods(F=2, P=1, i=i)"
   ]
  },
  {
   "cell_type": "code",
   "execution_count": 32,
   "metadata": {},
   "outputs": [
    {
     "output_type": "execute_result",
     "data": {
      "text/plain": [
       "0.022669171875000282"
      ]
     },
     "metadata": {},
     "execution_count": 32
    },
    {
     "output_type": "execute_result",
     "data": {
      "text/plain": [
       "8014.8248908272735"
      ]
     },
     "metadata": {},
     "execution_count": 32
    }
   ],
   "source": [
    "i = effective_rate_per_payment_period(r=0.09, M=12, K=4)\n",
    "i\n",
    "eq_sinking(200000, i, 5*4)"
   ]
  },
  {
   "cell_type": "code",
   "execution_count": 33,
   "metadata": {},
   "outputs": [
    {
     "output_type": "execute_result",
     "data": {
      "text/plain": [
       "0.0066889383540194025"
      ]
     },
     "metadata": {},
     "execution_count": 33
    },
    {
     "output_type": "execute_result",
     "data": {
      "text/plain": [
       "586.2112690093501"
      ]
     },
     "metadata": {},
     "execution_count": 33
    }
   ],
   "source": [
    "i=effective_rate_per_payment_period(r=0.08, M=math.inf, K=12)\n",
    "i\n",
    "eq_capital_recovery(24000,i,48)"
   ]
  },
  {
   "cell_type": "code",
   "execution_count": 34,
   "metadata": {},
   "outputs": [
    {
     "output_type": "execute_result",
     "data": {
      "text/plain": [
       "0.08243215999999998"
      ]
     },
     "metadata": {},
     "execution_count": 34
    },
    {
     "output_type": "execute_result",
     "data": {
      "text/plain": [
       "3869.2677260992937"
      ]
     },
     "metadata": {},
     "execution_count": 34
    }
   ],
   "source": [
    "i=effective_annual_interest_rate(r=0.08, M=4)\n",
    "i\n",
    "single_future(500, i, 5) + single_future(500, i, 4) + single_future(1000, i, 3) + single_future(1000, i, 2)"
   ]
  },
  {
   "cell_type": "code",
   "execution_count": 35,
   "metadata": {},
   "outputs": [
    {
     "output_type": "execute_result",
     "data": {
      "text/plain": [
       "0.09380689767098382"
      ]
     },
     "metadata": {},
     "execution_count": 35
    },
    {
     "output_type": "execute_result",
     "data": {
      "text/plain": [
       "0.12682503013196977"
      ]
     },
     "metadata": {},
     "execution_count": 35
    },
    {
     "output_type": "execute_result",
     "data": {
      "text/plain": [
       "3291.362510015837"
      ]
     },
     "metadata": {},
     "execution_count": 35
    }
   ],
   "source": [
    "i2 = effective_annual_interest_rate(0.09, 12)\n",
    "i2\n",
    "i1 = effective_annual_interest_rate(0.12, 12)\n",
    "i1\n",
    "\n",
    "temp = single_present(5000, i2, 2)\n",
    "single_present(temp, i1, 2)"
   ]
  },
  {
   "cell_type": "code",
   "execution_count": 36,
   "metadata": {},
   "outputs": [
    {
     "output_type": "execute_result",
     "data": {
      "text/plain": [
       "0.007500000000000062"
      ]
     },
     "metadata": {},
     "execution_count": 36
    },
    {
     "output_type": "execute_result",
     "data": {
      "text/plain": [
       "794.9933164985177"
      ]
     },
     "metadata": {},
     "execution_count": 36
    }
   ],
   "source": [
    "i = effective_rate_per_payment_period(0.09, M=12, K=12)\n",
    "i\n",
    "eq_capital_recovery(25000, i, 36)"
   ]
  },
  {
   "cell_type": "code",
   "execution_count": 37,
   "metadata": {},
   "outputs": [
    {
     "output_type": "execute_result",
     "data": {
      "text/plain": [
       "0.007500000000000062"
      ]
     },
     "metadata": {},
     "execution_count": 37
    },
    {
     "output_type": "execute_result",
     "data": {
      "text/plain": [
       "6527.839541400959"
      ]
     },
     "metadata": {},
     "execution_count": 37
    }
   ],
   "source": [
    "i=effective_rate_per_payment_period(0.09, M=12, K=12)\n",
    "i\n",
    "a = eq_capital_recovery(10000, i, 60)\n",
    "eq_present(a, i, 60-24)"
   ]
  },
  {
   "cell_type": "code",
   "execution_count": 38,
   "metadata": {},
   "outputs": [
    {
     "output_type": "execute_result",
     "data": {
      "text/plain": [
       "0.12682503013196977"
      ]
     },
     "metadata": {},
     "execution_count": 38
    },
    {
     "output_type": "execute_result",
     "data": {
      "text/plain": [
       "32244.52155364929"
      ]
     },
     "metadata": {},
     "execution_count": 38
    }
   ],
   "source": [
    "i = effective_annual_interest_rate(0.12, 12)\n",
    "i\n",
    "single_future(20000, i, 4)"
   ]
  },
  {
   "cell_type": "code",
   "execution_count": 39,
   "metadata": {},
   "outputs": [
    {
     "output_type": "execute_result",
     "data": {
      "text/plain": [
       "0.08000000000000007"
      ]
     },
     "metadata": {},
     "execution_count": 39
    },
    {
     "output_type": "execute_result",
     "data": {
      "text/plain": [
       "253.28964080678765"
      ]
     },
     "metadata": {},
     "execution_count": 39
    },
    {
     "output_type": "execute_result",
     "data": {
      "text/plain": [
       "344.59776000000016"
      ]
     },
     "metadata": {},
     "execution_count": 39
    }
   ],
   "source": [
    "i=effective_annual_interest_rate(0.08, 1)\n",
    "i\n",
    "remaining = 1000 - single_present(100, i, 1) - single_present(300, i, 2) - single_present(500, i, 3)\n",
    "remaining\n",
    "single_future(remaining, i, 4)"
   ]
  },
  {
   "source": [
    "# Chapter 5"
   ],
   "cell_type": "markdown",
   "metadata": {}
  },
  {
   "cell_type": "code",
   "execution_count": 40,
   "metadata": {},
   "outputs": [
    {
     "output_type": "execute_result",
     "data": {
      "text/plain": [
       "3.0"
      ]
     },
     "metadata": {},
     "execution_count": 40
    }
   ],
   "source": [
    "eq_periods(30000, 90000, 0)"
   ]
  },
  {
   "cell_type": "code",
   "execution_count": 42,
   "metadata": {},
   "outputs": [
    {
     "output_type": "execute_result",
     "data": {
      "text/plain": [
       "608.1483505225051"
      ]
     },
     "metadata": {},
     "execution_count": 42
    }
   ],
   "source": [
    "net_present_worth([-100,-200, 300, 400, 500], 0.1)"
   ]
  },
  {
   "cell_type": "code",
   "execution_count": 44,
   "metadata": {},
   "outputs": [
    {
     "output_type": "execute_result",
     "data": {
      "text/plain": [
       "0.12"
      ]
     },
     "metadata": {},
     "execution_count": 44
    },
    {
     "output_type": "execute_result",
     "data": {
      "text/plain": [
       "0.12095156250000016"
      ]
     },
     "metadata": {},
     "execution_count": 44
    },
    {
     "output_type": "execute_result",
     "data": {
      "text/plain": [
       "0.1200551128930667"
      ]
     },
     "metadata": {},
     "execution_count": 44
    },
    {
     "output_type": "execute_result",
     "data": {
      "text/plain": [
       "0.11848593740999647"
      ]
     },
     "metadata": {},
     "execution_count": 44
    }
   ],
   "source": [
    "0.12\n",
    "effective_annual_interest_rate(0.1175, 2)\n",
    "effective_annual_interest_rate(0.115, 4)\n",
    "effective_annual_interest_rate(0.1125, 12)"
   ]
  },
  {
   "cell_type": "code",
   "execution_count": 45,
   "metadata": {},
   "outputs": [
    {
     "output_type": "execute_result",
     "data": {
      "text/plain": [
       "51734.78858138188"
      ]
     },
     "metadata": {},
     "execution_count": 45
    }
   ],
   "source": [
    "p = 5000\n",
    "i = 0.12\n",
    "p += single_present(10000, i, 3)\n",
    "p += single_present(8000, i, 5)\n",
    "\n",
    "p * time_shift(i, 10)"
   ]
  },
  {
   "cell_type": "code",
   "execution_count": 48,
   "metadata": {},
   "outputs": [
    {
     "output_type": "execute_result",
     "data": {
      "text/plain": [
       "1074.777554936013"
      ]
     },
     "metadata": {},
     "execution_count": 48
    }
   ],
   "source": []
  },
  {
   "cell_type": "code",
   "execution_count": null,
   "metadata": {},
   "outputs": [],
   "source": []
  }
 ]
}