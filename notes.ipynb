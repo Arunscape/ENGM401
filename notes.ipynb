{
 "cells": [
  {
   "cell_type": "code",
   "execution_count": 1,
   "metadata": {},
   "outputs": [],
   "source": [
    "\n",
    "from util import *\n",
    "from IPython.core.interactiveshell import InteractiveShell\n",
    "\n",
    "InteractiveShell.ast_node_interactivity = \"all\"\n"
   ]
  },
  {
   "cell_type": "code",
   "execution_count": 2,
   "metadata": {},
   "outputs": [
    {
     "data": {
      "text/plain": "array(13.17854064)"
     },
     "execution_count": 2,
     "metadata": {},
     "output_type": "execute_result"
    }
   ],
   "source": [
    "# if 1059 is deposited annually at 10% interest\n",
    "# how many years before a machine costing 26597 can be purchased\n",
    "npf.nper(0.1, -1059, 0, 26597)"
   ]
  },
  {
   "cell_type": "code",
   "execution_count": 3,
   "metadata": {},
   "outputs": [
    {
     "data": {
      "text/plain": "763.8058557519228"
     },
     "execution_count": 3,
     "metadata": {},
     "output_type": "execute_result"
    }
   ],
   "source": [
    "i = effective_rate_per_payment_period(0.0645, M=2, K=2)\n",
    "eq_sinking(21000, i, 10*2)"
   ]
  },
  {
   "cell_type": "code",
   "execution_count": 4,
   "metadata": {},
   "outputs": [
    {
     "data": {
      "text/plain": "8875.83125446052"
     },
     "execution_count": 4,
     "metadata": {},
     "output_type": "execute_result"
    }
   ],
   "source": [
    "# changing interest\n",
    "\n",
    "a=0.06\n",
    "b=0.1\n",
    "c=0.08\n",
    "d=2000\n",
    "e=3000\n",
    "a=effective_annual_interest_rate(a, 4)\n",
    "b=effective_annual_interest_rate(b,4)\n",
    "c=effective_annual_interest_rate(c,4)\n",
    "ans=single_present(d, c, 1) * time_shift(b, -2) * time_shift(a, -2)+\\\n",
    "    single_present(d, b, 2) * time_shift(a, -2)+ single_present(e, b, 1)* time_shift(a, -2) + eq_present(d, a, 2)\n",
    "ans"
   ]
  },
  {
   "cell_type": "code",
   "execution_count": 5,
   "metadata": {},
   "outputs": [
    {
     "data": {
      "text/plain": "13186.483178392722"
     },
     "execution_count": 5,
     "metadata": {},
     "output_type": "execute_result"
    }
   ],
   "source": [
    "ans2 = ans * time_shift(a, 2) * time_shift(b, 2) * time_shift(c, 1)\n",
    "ans2"
   ]
  },
  {
   "cell_type": "code",
   "execution_count": null,
   "metadata": {},
   "outputs": [],
   "source": []
  },
  {
   "cell_type": "code",
   "execution_count": 6,
   "metadata": {},
   "outputs": [
    {
     "data": {
      "text/plain": "0.22273535385356585"
     },
     "execution_count": 6,
     "metadata": {},
     "output_type": "execute_result"
    },
    {
     "data": {
      "text/plain": "0.24694112891155773"
     },
     "execution_count": 6,
     "metadata": {},
     "output_type": "execute_result"
    },
    {
     "data": {
      "text/plain": "1664.8515346491358"
     },
     "execution_count": 6,
     "metadata": {},
     "output_type": "execute_result"
    }
   ],
   "source": [
    "# annual effective interest rate for an addon loan\n",
    "# assignment 2 question 4\n",
    "monthly_rate = npf.rate(24, 156.04, -3000, 0)\n",
    "nominal = monthly_rate*12\n",
    "nominal\n",
    "\n",
    "ia_APR_per_month_compounded_monthly(monthly_rate)\n",
    "\n",
    "eq_present(156.04, monthly_rate, 12)"
   ]
  },
  {
   "cell_type": "code",
   "execution_count": 7,
   "metadata": {},
   "outputs": [
    {
     "data": {
      "text/plain": "71.5"
     },
     "execution_count": 7,
     "metadata": {},
     "output_type": "execute_result"
    },
    {
     "data": {
      "text/plain": "2095.9912700416758"
     },
     "execution_count": 7,
     "metadata": {},
     "output_type": "execute_result"
    },
    {
     "data": {
      "text/plain": "975.7056702629909"
     },
     "execution_count": 7,
     "metadata": {},
     "output_type": "execute_result"
    },
    {
     "name": "stdout",
     "output_type": "stream",
     "text": [
      "this is the semiannual yield\n",
      "multiply by M=2 to get the annual current yield\n"
     ]
    },
    {
     "data": {
      "text/plain": "0.09124786237525204"
     },
     "execution_count": 7,
     "metadata": {},
     "output_type": "execute_result"
    }
   ],
   "source": [
    "A = bond_payment(0.13, 1100)\n",
    "A\n",
    "# market price of bond after interest goes doqn\n",
    "bond_market(A, 0.04, 15-2, 1100)\n",
    "bond_market(A, 0.15, 15-2, 1100)\n",
    "\n",
    "bond_current_yield(A, 783.58)"
   ]
  },
  {
   "cell_type": "code",
   "execution_count": 8,
   "metadata": {},
   "outputs": [
    {
     "data": {
      "text/plain": "305.9655523206716"
     },
     "execution_count": 8,
     "metadata": {},
     "output_type": "execute_result"
    },
    {
     "data": {
      "text/plain": "299.43525664802377"
     },
     "execution_count": 8,
     "metadata": {},
     "output_type": "execute_result"
    },
    {
     "data": {
      "text/plain": "4080.0365815720147"
     },
     "execution_count": 8,
     "metadata": {},
     "output_type": "execute_result"
    }
   ],
   "source": [
    "# refinance car loan, probably there will be a question like this\n",
    "P = 15458*0.9\n",
    "i1 = effective_rate_per_payment_period(0.115, M=12, K=12)\n",
    "A1 = eq_capital_recovery(P, i1, 60)\n",
    "A1\n",
    "# 4 months later, refinance\n",
    "\n",
    "# first find how much is owed\n",
    "P = eq_present(A1, i1, 60-4)\n",
    "\n",
    "i2 = effective_rate_per_payment_period(0.105, M=12, K=12)\n",
    "A2 = eq_capital_recovery(P, i2, 60-4)\n",
    "A2\n",
    "\n",
    "total_interest = 0\n",
    "for n in range(1, 5):\n",
    "    total_interest += interest_payment(A1, i1, 60, n)\n",
    "# remember to +1 the end range\n",
    "for n in range(1, 60-4+1):\n",
    "    total_interest += interest_payment(A2, i2, 60-4, n)\n",
    "total_interest"
   ]
  },
  {
   "cell_type": "code",
   "execution_count": 36,
   "metadata": {},
   "outputs": [
    {
     "name": "stdout",
     "output_type": "stream",
     "text": [
      "note: this is probably the semiannual rate if M=2 i.e. you now have r/m\n",
      "use ia(r_over_m, M=2) to get annual interest rate\n",
      "multiply it by 2 to get the nominal annual rate\n"
     ]
    },
    {
     "data": {
      "text/latex": "$\\displaystyle \\left\\{-2, \\frac{3}{50}\\right\\}$",
      "text/plain": "FiniteSet(-2, 3/50)"
     },
     "execution_count": 36,
     "metadata": {},
     "output_type": "execute_result"
    }
   ],
   "source": []
  },
  {
   "cell_type": "code",
   "execution_count": 9,
   "metadata": {},
   "outputs": [
    {
     "name": "stdout",
     "output_type": "stream",
     "text": [
      "note: this is probably the semiannual rate if M=2 i.e. you now have r/m\n",
      "use ia(r_over_m, M=2) to get annual interest rate\n",
      "multiply it by 2 to get the nominal annual rate\n",
      "expr -922.38 + 1000/(i + 1)**49 + (60.0*(i + 1)**49 - 60.0)/(i*(i + 1)**49)\n",
      "note: this is probably the semiannual rate if M=2 i.e. you now have r/m\n",
      "use ia(r_over_m, M=2) to get annual interest rate\n",
      "multiply it by 2 to get the nominal annual rate\n"
     ]
    },
    {
     "data": {
      "text/latex": "$\\displaystyle \\left\\{-2, \\frac{3}{50}\\right\\}$",
      "text/plain": "FiniteSet(-2, 3/50)"
     },
     "execution_count": 9,
     "metadata": {},
     "output_type": "execute_result"
    },
    {
     "data": {
      "text/plain": "0.12360000000000015"
     },
     "execution_count": 9,
     "metadata": {},
     "output_type": "execute_result"
    },
    {
     "data": {
      "text/plain": "1296.430116678116"
     },
     "execution_count": 9,
     "metadata": {},
     "output_type": "execute_result"
    },
    {
     "data": {
      "text/latex": "$\\displaystyle \\left\\{-2.68484944380803, -1.36346351561949, 0.0653083871411682\\right\\}$",
      "text/plain": "FiniteSet(-2.68484944380803, -1.36346351561949, 0.0653083871411682)"
     },
     "execution_count": 9,
     "metadata": {},
     "output_type": "execute_result"
    },
    {
     "data": {
      "text/plain": "0.13488195971331707"
     },
     "execution_count": 9,
     "metadata": {},
     "output_type": "execute_result"
    },
    {
     "data": {
      "text/plain": "0.1306167742823364"
     },
     "execution_count": 9,
     "metadata": {},
     "output_type": "execute_result"
    }
   ],
   "source": [
    "# yield to maturity for bonds\n",
    "YTM(1000, 0.12, 30, 1000)\n",
    "semiannualrate = 3/50\n",
    "ia(semiannualrate)\n",
    "A=bond_payment(0.12, 1000)\n",
    "bond_market(A, 0.09, 30-5, 1000)\n",
    "\n",
    "\n",
    "YTM_NA(922.38, A, 0.09, 30*2-5*2-1, 1000, M=2)\n",
    "ia(0.0653083871411682)\n",
    "0.0653083871411682 * 2\n"
   ]
  },
  {
   "cell_type": "code",
   "execution_count": 10,
   "metadata": {},
   "outputs": [
    {
     "data": {
      "text/plain": "1225.9214627875874"
     },
     "execution_count": 10,
     "metadata": {},
     "output_type": "execute_result"
    }
   ],
   "source": [
    "A = bond_payment(0.1, 1000)\n",
    "bond_market(A, 0.06, 10-3, 1000)"
   ]
  },
  {
   "cell_type": "code",
   "execution_count": 11,
   "metadata": {},
   "outputs": [
    {
     "data": {
      "text/plain": "5012.481259125566"
     },
     "execution_count": 11,
     "metadata": {},
     "output_type": "execute_result"
    }
   ],
   "source": [
    "net = -535\n",
    "i = 0.15\n",
    "net -= single_present(3431, i, 1)\n",
    "net -= single_present(4460, i, 2)\n",
    "net += eq_present(1647, i, 8) * time_shift(i, -2)\n",
    "net += eq_present(4781, i, 8) * time_shift(i, -2)\n",
    "net -= eq_present(1582, i, 8) * time_shift(i, -2)\n",
    "net -= eq_present(1448, i, 8) * time_shift(i, -2)\n",
    "net += single_present(1512, i, 10)\n",
    "net"
   ]
  },
  {
   "cell_type": "code",
   "execution_count": 12,
   "metadata": {},
   "outputs": [
    {
     "name": "stdout",
     "output_type": "stream",
     "text": [
      "net present worth 3034.1756687242823\n"
     ]
    },
    {
     "data": {
      "text/html": "<div>\n<style scoped>\n    .dataframe tbody tr th:only-of-type {\n        vertical-align: middle;\n    }\n\n    .dataframe tbody tr th {\n        vertical-align: top;\n    }\n\n    .dataframe thead th {\n        text-align: right;\n    }\n</style>\n<table border=\"1\" class=\"dataframe\">\n  <thead>\n    <tr style=\"text-align: right;\">\n      <th></th>\n      <th>An</th>\n      <th>interest</th>\n      <th>project balance</th>\n      <th>difference</th>\n    </tr>\n  </thead>\n  <tbody>\n    <tr>\n      <th>0</th>\n      <td>-10000.0</td>\n      <td>0.0</td>\n      <td>-10000</td>\n      <td>-10000</td>\n    </tr>\n    <tr>\n      <th>1</th>\n      <td>1000.0</td>\n      <td>-2000.0</td>\n      <td>-11000</td>\n      <td>-1000</td>\n    </tr>\n    <tr>\n      <th>2</th>\n      <td>5000.0</td>\n      <td>-2200.0</td>\n      <td>-8200</td>\n      <td>2800</td>\n    </tr>\n    <tr>\n      <th>3</th>\n      <td>8000.0</td>\n      <td>-1640.0</td>\n      <td>-1840</td>\n      <td>6360</td>\n    </tr>\n    <tr>\n      <th>4</th>\n      <td>6000.0</td>\n      <td>-368.0</td>\n      <td>3792</td>\n      <td>5632</td>\n    </tr>\n    <tr>\n      <th>5</th>\n      <td>2999.6</td>\n      <td>758.4</td>\n      <td>7550</td>\n      <td>3758</td>\n    </tr>\n  </tbody>\n</table>\n</div>",
      "text/plain": "        An  interest  project balance  difference\n0 -10000.0       0.0           -10000      -10000\n1   1000.0   -2000.0           -11000       -1000\n2   5000.0   -2200.0            -8200        2800\n3   8000.0   -1640.0            -1840        6360\n4   6000.0    -368.0             3792        5632\n5   2999.6     758.4             7550        3758"
     },
     "execution_count": 12,
     "metadata": {},
     "output_type": "execute_result"
    }
   ],
   "source": [
    "project_balance(0.2, [-10000, -11000, -8200, -1840, 3792, 7550])"
   ]
  },
  {
   "cell_type": "code",
   "execution_count": 13,
   "metadata": {},
   "outputs": [
    {
     "name": "stdout",
     "output_type": "stream",
     "text": [
      "net present worth 3034.1756687242823\n"
     ]
    },
    {
     "data": {
      "text/html": "<div>\n<style scoped>\n    .dataframe tbody tr th:only-of-type {\n        vertical-align: middle;\n    }\n\n    .dataframe tbody tr th {\n        vertical-align: top;\n    }\n\n    .dataframe thead th {\n        text-align: right;\n    }\n</style>\n<table border=\"1\" class=\"dataframe\">\n  <thead>\n    <tr style=\"text-align: right;\">\n      <th></th>\n      <th>An</th>\n      <th>interest</th>\n      <th>project balance</th>\n      <th>difference</th>\n    </tr>\n  </thead>\n  <tbody>\n    <tr>\n      <th>0</th>\n      <td>-10000.0</td>\n      <td>0.0</td>\n      <td>-10000.0</td>\n      <td>-10000.0</td>\n    </tr>\n    <tr>\n      <th>1</th>\n      <td>1000.0</td>\n      <td>-2000.0</td>\n      <td>-11000.0</td>\n      <td>-1000.0</td>\n    </tr>\n    <tr>\n      <th>2</th>\n      <td>5000.0</td>\n      <td>-2200.0</td>\n      <td>-8200.0</td>\n      <td>2800.0</td>\n    </tr>\n    <tr>\n      <th>3</th>\n      <td>8000.0</td>\n      <td>-1640.0</td>\n      <td>-1840.0</td>\n      <td>6360.0</td>\n    </tr>\n    <tr>\n      <th>4</th>\n      <td>6000.0</td>\n      <td>-368.0</td>\n      <td>3792.0</td>\n      <td>5632.0</td>\n    </tr>\n    <tr>\n      <th>5</th>\n      <td>2999.6</td>\n      <td>758.4</td>\n      <td>7550.0</td>\n      <td>3758.0</td>\n    </tr>\n  </tbody>\n</table>\n</div>",
      "text/plain": "        An  interest  project balance  difference\n0 -10000.0       0.0         -10000.0    -10000.0\n1   1000.0   -2000.0         -11000.0     -1000.0\n2   5000.0   -2200.0          -8200.0      2800.0\n3   8000.0   -1640.0          -1840.0      6360.0\n4   6000.0    -368.0           3792.0      5632.0\n5   2999.6     758.4           7550.0      3758.0"
     },
     "execution_count": 13,
     "metadata": {},
     "output_type": "execute_result"
    }
   ],
   "source": [
    "cash_flows(0.2, [-10000, 1000, 5000, 8000, 6000, 2999.6])"
   ]
  },
  {
   "cell_type": "code",
   "execution_count": 14,
   "metadata": {},
   "outputs": [
    {
     "data": {
      "text/plain": "4716.981132075472"
     },
     "execution_count": 14,
     "metadata": {},
     "output_type": "execute_result"
    },
    {
     "data": {
      "text/plain": "5037.715698193811"
     },
     "execution_count": 14,
     "metadata": {},
     "output_type": "execute_result"
    },
    {
     "data": {
      "text/plain": "array(9.00646834)"
     },
     "execution_count": 14,
     "metadata": {},
     "output_type": "execute_result"
    },
    {
     "data": {
      "text/plain": "0.2387205315755283"
     },
     "execution_count": 14,
     "metadata": {},
     "output_type": "execute_result"
    },
    {
     "data": {
      "text/plain": "0.11999966249944216"
     },
     "execution_count": 14,
     "metadata": {},
     "output_type": "execute_result"
    }
   ],
   "source": [
    "single_present(5000, 0.06, 1)\n",
    "single_present(6000, 0.06, 3)\n",
    "npf.nper(0.08, 0, 1, -2)\n",
    "i=ia_APR_per_month_compounded_monthly(0.018)\n",
    "i\n",
    "npf.rate(5, 5548.19, -20000, 0)\n"
   ]
  },
  {
   "cell_type": "code",
   "execution_count": 15,
   "metadata": {},
   "outputs": [
    {
     "data": {
      "text/latex": "$\\displaystyle \\left\\{0.0849942182828878\\right\\}$",
      "text/plain": "FiniteSet(0.0849942182828878)"
     },
     "execution_count": 15,
     "metadata": {},
     "output_type": "execute_result"
    }
   ],
   "source": [
    "# find nominal interest rate if effective annual yield is 8.87%\n",
    "r = sym.symbols('r')\n",
    "expr = -0.0887 + effective_rate_per_payment_period(r, M=365)\n",
    "solve(expr, r)"
   ]
  },
  {
   "cell_type": "code",
   "execution_count": 22,
   "metadata": {},
   "outputs": [
    {
     "name": "stdout",
     "output_type": "stream",
     "text": [
      "note: this is probably the semiannual rate if M=2 i.e. you now have r/m\n",
      "use ia(r_over_m, M=2) to get annual interest rate\n",
      "multiply it by 2 to get the nominal annual rate\n"
     ]
    },
    {
     "data": {
      "text/latex": "$\\displaystyle 0.0968437929347675$",
      "text/plain": "0.0968437929347675"
     },
     "execution_count": 22,
     "metadata": {},
     "output_type": "execute_result"
    },
    {
     "data": {
      "text/latex": "$\\displaystyle 0.0991884729922654$",
      "text/plain": "0.0991884729922654"
     },
     "execution_count": 22,
     "metadata": {},
     "output_type": "execute_result"
    }
   ],
   "source": [
    "A = bond_payment(0.09625, 1000)\n",
    "_, x = YTM(996.25, 0.09625, 10, 1000)\n",
    "x * 2\n",
    "ia(x)"
   ]
  },
  {
   "cell_type": "code",
   "execution_count": 24,
   "metadata": {},
   "outputs": [
    {
     "data": {
      "text/plain": "0.591898463530025"
     },
     "execution_count": 24,
     "metadata": {},
     "output_type": "execute_result"
    }
   ],
   "source": [
    "A = eq_capital_recovery(100000, 0.06, 10)\n",
    "principal_payment(100000, 0.06, 10, 2)/A"
   ]
  },
  {
   "cell_type": "code",
   "execution_count": null,
   "metadata": {},
   "outputs": [],
   "source": []
  }
 ],
 "metadata": {
  "kernelspec": {
   "display_name": "Python 3",
   "language": "python",
   "name": "python3"
  },
  "language_info": {
   "codemirror_mode": {
    "name": "ipython",
    "version": 3
   },
   "file_extension": ".py",
   "mimetype": "text/x-python",
   "name": "python",
   "nbconvert_exporter": "python",
   "pygments_lexer": "ipython3",
   "version": "3.9.1"
  },
  "orig_nbformat": 2
 },
 "nbformat": 4,
 "nbformat_minor": 2
}