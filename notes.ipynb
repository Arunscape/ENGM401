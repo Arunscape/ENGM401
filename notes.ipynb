{
 "cells": [
  {
   "cell_type": "code",
   "execution_count": 1,
   "metadata": {},
   "outputs": [],
   "source": [
    "\n",
    "from util import *\n",
    "from IPython.core.interactiveshell import InteractiveShell\n",
    "\n",
    "InteractiveShell.ast_node_interactivity = \"all\"\n"
   ]
  },
  {
   "cell_type": "code",
   "execution_count": 2,
   "metadata": {},
   "outputs": [
    {
     "output_type": "execute_result",
     "data": {
      "text/plain": [
       "array(13.17854064)"
      ]
     },
     "metadata": {},
     "execution_count": 2
    }
   ],
   "source": [
    "# if 1059 is deposited annually at 10% interest\n",
    "# how many years before a machine costing 26597 can be purchased\n",
    "npf.nper(0.1, -1059, 0, 26597)"
   ]
  },
  {
   "cell_type": "code",
   "execution_count": 3,
   "metadata": {},
   "outputs": [
    {
     "output_type": "execute_result",
     "data": {
      "text/plain": [
       "763.8058557519228"
      ]
     },
     "metadata": {},
     "execution_count": 3
    }
   ],
   "source": [
    "i = effective_rate_per_payment_period(0.0645, M=2, K=2)\n",
    "eq_sinking(21000, i, 10*2)"
   ]
  },
  {
   "cell_type": "code",
   "execution_count": 4,
   "metadata": {},
   "outputs": [
    {
     "output_type": "execute_result",
     "data": {
      "text/plain": [
       "8875.83125446052"
      ]
     },
     "metadata": {},
     "execution_count": 4
    }
   ],
   "source": [
    "# changing interest\n",
    "\n",
    "a=0.06\n",
    "b=0.1\n",
    "c=0.08\n",
    "d=2000\n",
    "e=3000\n",
    "a=effective_annual_interest_rate(a, 4)\n",
    "b=effective_annual_interest_rate(b,4)\n",
    "c=effective_annual_interest_rate(c,4)\n",
    "ans=single_present(d, c, 1) * time_shift(b, -2) * time_shift(a, -2)+\\\n",
    "    single_present(d, b, 2) * time_shift(a, -2)+ single_present(e, b, 1)* time_shift(a, -2) + eq_present(d, a, 2)\n",
    "ans"
   ]
  },
  {
   "cell_type": "code",
   "execution_count": 5,
   "metadata": {},
   "outputs": [
    {
     "output_type": "execute_result",
     "data": {
      "text/plain": [
       "13186.483178392722"
      ]
     },
     "metadata": {},
     "execution_count": 5
    }
   ],
   "source": [
    "ans2 = ans * time_shift(a, 2) * time_shift(b, 2) * time_shift(c, 1)\n",
    "ans2"
   ]
  },
  {
   "cell_type": "code",
   "execution_count": null,
   "metadata": {},
   "outputs": [],
   "source": []
  },
  {
   "cell_type": "code",
   "execution_count": 6,
   "metadata": {},
   "outputs": [
    {
     "output_type": "execute_result",
     "data": {
      "text/plain": [
       "0.22273535385356585"
      ]
     },
     "metadata": {},
     "execution_count": 6
    },
    {
     "output_type": "execute_result",
     "data": {
      "text/plain": [
       "0.24694112891155773"
      ]
     },
     "metadata": {},
     "execution_count": 6
    },
    {
     "output_type": "execute_result",
     "data": {
      "text/plain": [
       "1664.8515346491358"
      ]
     },
     "metadata": {},
     "execution_count": 6
    }
   ],
   "source": [
    "# annual effective interest rate for an addon loan\n",
    "# assignment 2 question 4\n",
    "monthly_rate = npf.rate(24, 156.04, -3000, 0)\n",
    "nominal = monthly_rate*12\n",
    "nominal\n",
    "\n",
    "ia_APR_per_month_compounded_monthly(monthly_rate)\n",
    "\n",
    "eq_present(156.04, monthly_rate, 12)"
   ]
  },
  {
   "cell_type": "code",
   "execution_count": 7,
   "metadata": {},
   "outputs": [
    {
     "output_type": "execute_result",
     "data": {
      "text/plain": [
       "71.5"
      ]
     },
     "metadata": {},
     "execution_count": 7
    },
    {
     "output_type": "execute_result",
     "data": {
      "text/plain": [
       "2095.9912700416758"
      ]
     },
     "metadata": {},
     "execution_count": 7
    },
    {
     "output_type": "execute_result",
     "data": {
      "text/plain": [
       "975.7056702629909"
      ]
     },
     "metadata": {},
     "execution_count": 7
    },
    {
     "output_type": "stream",
     "name": "stdout",
     "text": [
      "this is the semiannual yield\nmultiply by M=2 to get the annual current yield\n"
     ]
    },
    {
     "output_type": "execute_result",
     "data": {
      "text/plain": [
       "0.09124786237525204"
      ]
     },
     "metadata": {},
     "execution_count": 7
    }
   ],
   "source": [
    "A = bond_payment(0.13, 1100)\n",
    "A\n",
    "# market price of bond after interest goes doqn\n",
    "bond_market(A, 0.04, 15-2, 1100)\n",
    "bond_market(A, 0.15, 15-2, 1100)\n",
    "\n",
    "bond_current_yield(A, 783.58)"
   ]
  },
  {
   "cell_type": "code",
   "execution_count": 8,
   "metadata": {},
   "outputs": [
    {
     "output_type": "execute_result",
     "data": {
      "text/plain": [
       "305.9655523206716"
      ]
     },
     "metadata": {},
     "execution_count": 8
    },
    {
     "output_type": "execute_result",
     "data": {
      "text/plain": [
       "299.43525664802377"
      ]
     },
     "metadata": {},
     "execution_count": 8
    },
    {
     "output_type": "execute_result",
     "data": {
      "text/plain": [
       "4080.0365815720147"
      ]
     },
     "metadata": {},
     "execution_count": 8
    }
   ],
   "source": [
    "# refinance car loan, probably there will be a question like this\n",
    "P = 15458*0.9\n",
    "i1 = effective_rate_per_payment_period(0.115, M=12, K=12)\n",
    "A1 = eq_capital_recovery(P, i1, 60)\n",
    "A1\n",
    "# 4 months later, refinance\n",
    "\n",
    "# first find how much is owed\n",
    "P = eq_present(A1, i1, 60-4)\n",
    "\n",
    "i2 = effective_rate_per_payment_period(0.105, M=12, K=12)\n",
    "A2 = eq_capital_recovery(P, i2, 60-4)\n",
    "A2\n",
    "\n",
    "total_interest = 0\n",
    "for n in range(1, 5):\n",
    "    total_interest += interest_payment(A1, i1, 60, n)\n",
    "# remember to +1 the end range\n",
    "for n in range(1, 60-4+1):\n",
    "    total_interest += interest_payment(A2, i2, 60-4, n)\n",
    "total_interest"
   ]
  },
  {
   "cell_type": "code",
   "execution_count": 36,
   "metadata": {},
   "outputs": [
    {
     "name": "stdout",
     "output_type": "stream",
     "text": [
      "note: this is probably the semiannual rate if M=2 i.e. you now have r/m\n",
      "use ia(r_over_m, M=2) to get annual interest rate\n",
      "multiply it by 2 to get the nominal annual rate\n"
     ]
    },
    {
     "data": {
      "text/latex": "$\\displaystyle \\left\\{-2, \\frac{3}{50}\\right\\}$",
      "text/plain": "FiniteSet(-2, 3/50)"
     },
     "execution_count": 36,
     "metadata": {},
     "output_type": "execute_result"
    }
   ],
   "source": []
  },
  {
   "cell_type": "code",
   "execution_count": 9,
   "metadata": {},
   "outputs": [
    {
     "output_type": "stream",
     "name": "stdout",
     "text": [
      "note: this is probably the semiannual rate if M=2 i.e. you now have r/m\nuse ia(r_over_m, M=2) to get annual interest rate\nmultiply it by 2 to get the nominal annual rate\n"
     ]
    },
    {
     "output_type": "execute_result",
     "data": {
      "text/plain": [
       "FiniteSet(-2, 3/50)"
      ],
      "text/latex": "$\\displaystyle \\left\\{-2, \\frac{3}{50}\\right\\}$"
     },
     "metadata": {},
     "execution_count": 9
    },
    {
     "output_type": "execute_result",
     "data": {
      "text/plain": [
       "0.12360000000000015"
      ]
     },
     "metadata": {},
     "execution_count": 9
    },
    {
     "output_type": "execute_result",
     "data": {
      "text/plain": [
       "1296.430116678116"
      ]
     },
     "metadata": {},
     "execution_count": 9
    },
    {
     "output_type": "stream",
     "name": "stdout",
     "text": [
      "expr -922.38 + 1000/(i + 1)**49 + (60.0*(i + 1)**49 - 60.0)/(i*(i + 1)**49)\nnote: this is probably the semiannual rate if M=2 i.e. you now have r/m\nuse ia(r_over_m, M=2) to get annual interest rate\nmultiply it by 2 to get the nominal annual rate\n"
     ]
    },
    {
     "output_type": "execute_result",
     "data": {
      "text/plain": [
       "FiniteSet(-2.68484944380803, -1.36346351561949, 0.0653083871411682)"
      ],
      "text/latex": "$\\displaystyle \\left\\{-2.68484944380803, -1.36346351561949, 0.0653083871411682\\right\\}$"
     },
     "metadata": {},
     "execution_count": 9
    },
    {
     "output_type": "execute_result",
     "data": {
      "text/plain": [
       "0.13488195971331707"
      ]
     },
     "metadata": {},
     "execution_count": 9
    },
    {
     "output_type": "execute_result",
     "data": {
      "text/plain": [
       "0.1306167742823364"
      ]
     },
     "metadata": {},
     "execution_count": 9
    }
   ],
   "source": [
    "# yield to maturity for bonds\n",
    "YTM(1000, 0.12, 30, 1000)\n",
    "semiannualrate = 3/50\n",
    "ia(semiannualrate)\n",
    "A=bond_payment(0.12, 1000)\n",
    "bond_market(A, 0.09, 30-5, 1000)\n",
    "\n",
    "\n",
    "YTM_NA(922.38, A, 0.09, 30*2-5*2-1, 1000, M=2)\n",
    "ia(0.0653083871411682)\n",
    "0.0653083871411682 * 2\n"
   ]
  },
  {
   "cell_type": "code",
   "execution_count": 10,
   "metadata": {},
   "outputs": [
    {
     "output_type": "execute_result",
     "data": {
      "text/plain": [
       "1225.9214627875874"
      ]
     },
     "metadata": {},
     "execution_count": 10
    }
   ],
   "source": [
    "A = bond_payment(0.1, 1000)\n",
    "bond_market(A, 0.06, 10-3, 1000)"
   ]
  },
  {
   "cell_type": "code",
   "execution_count": 11,
   "metadata": {},
   "outputs": [
    {
     "output_type": "execute_result",
     "data": {
      "text/plain": [
       "5012.481259125566"
      ]
     },
     "metadata": {},
     "execution_count": 11
    }
   ],
   "source": [
    "net = -535\n",
    "i = 0.15\n",
    "net -= single_present(3431, i, 1)\n",
    "net -= single_present(4460, i, 2)\n",
    "net += eq_present(1647, i, 8) * time_shift(i, -2)\n",
    "net += eq_present(4781, i, 8) * time_shift(i, -2)\n",
    "net -= eq_present(1582, i, 8) * time_shift(i, -2)\n",
    "net -= eq_present(1448, i, 8) * time_shift(i, -2)\n",
    "net += single_present(1512, i, 10)\n",
    "net"
   ]
  },
  {
   "cell_type": "code",
   "execution_count": 12,
   "metadata": {},
   "outputs": [
    {
     "output_type": "stream",
     "name": "stdout",
     "text": [
      "net present worth 3034.1756687242823\n"
     ]
    },
    {
     "output_type": "execute_result",
     "data": {
      "text/plain": [
       "        An  interest  project balance  difference\n",
       "0 -10000.0       0.0           -10000      -10000\n",
       "1   1000.0   -2000.0           -11000       -1000\n",
       "2   5000.0   -2200.0            -8200        2800\n",
       "3   8000.0   -1640.0            -1840        6360\n",
       "4   6000.0    -368.0             3792        5632\n",
       "5   2999.6     758.4             7550        3758"
      ],
      "text/html": "<div>\n<style scoped>\n    .dataframe tbody tr th:only-of-type {\n        vertical-align: middle;\n    }\n\n    .dataframe tbody tr th {\n        vertical-align: top;\n    }\n\n    .dataframe thead th {\n        text-align: right;\n    }\n</style>\n<table border=\"1\" class=\"dataframe\">\n  <thead>\n    <tr style=\"text-align: right;\">\n      <th></th>\n      <th>An</th>\n      <th>interest</th>\n      <th>project balance</th>\n      <th>difference</th>\n    </tr>\n  </thead>\n  <tbody>\n    <tr>\n      <th>0</th>\n      <td>-10000.0</td>\n      <td>0.0</td>\n      <td>-10000</td>\n      <td>-10000</td>\n    </tr>\n    <tr>\n      <th>1</th>\n      <td>1000.0</td>\n      <td>-2000.0</td>\n      <td>-11000</td>\n      <td>-1000</td>\n    </tr>\n    <tr>\n      <th>2</th>\n      <td>5000.0</td>\n      <td>-2200.0</td>\n      <td>-8200</td>\n      <td>2800</td>\n    </tr>\n    <tr>\n      <th>3</th>\n      <td>8000.0</td>\n      <td>-1640.0</td>\n      <td>-1840</td>\n      <td>6360</td>\n    </tr>\n    <tr>\n      <th>4</th>\n      <td>6000.0</td>\n      <td>-368.0</td>\n      <td>3792</td>\n      <td>5632</td>\n    </tr>\n    <tr>\n      <th>5</th>\n      <td>2999.6</td>\n      <td>758.4</td>\n      <td>7550</td>\n      <td>3758</td>\n    </tr>\n  </tbody>\n</table>\n</div>"
     },
     "metadata": {},
     "execution_count": 12
    }
   ],
   "source": [
    "project_balance(0.2, [-10000, -11000, -8200, -1840, 3792, 7550])"
   ]
  },
  {
   "cell_type": "code",
   "execution_count": 13,
   "metadata": {},
   "outputs": [
    {
     "output_type": "stream",
     "name": "stdout",
     "text": [
      "net present worth 3034.1756687242823\n"
     ]
    },
    {
     "output_type": "execute_result",
     "data": {
      "text/plain": [
       "        An  interest  project balance  difference\n",
       "0 -10000.0       0.0         -10000.0    -10000.0\n",
       "1   1000.0   -2000.0         -11000.0     -1000.0\n",
       "2   5000.0   -2200.0          -8200.0      2800.0\n",
       "3   8000.0   -1640.0          -1840.0      6360.0\n",
       "4   6000.0    -368.0           3792.0      5632.0\n",
       "5   2999.6     758.4           7550.0      3758.0"
      ],
      "text/html": "<div>\n<style scoped>\n    .dataframe tbody tr th:only-of-type {\n        vertical-align: middle;\n    }\n\n    .dataframe tbody tr th {\n        vertical-align: top;\n    }\n\n    .dataframe thead th {\n        text-align: right;\n    }\n</style>\n<table border=\"1\" class=\"dataframe\">\n  <thead>\n    <tr style=\"text-align: right;\">\n      <th></th>\n      <th>An</th>\n      <th>interest</th>\n      <th>project balance</th>\n      <th>difference</th>\n    </tr>\n  </thead>\n  <tbody>\n    <tr>\n      <th>0</th>\n      <td>-10000.0</td>\n      <td>0.0</td>\n      <td>-10000.0</td>\n      <td>-10000.0</td>\n    </tr>\n    <tr>\n      <th>1</th>\n      <td>1000.0</td>\n      <td>-2000.0</td>\n      <td>-11000.0</td>\n      <td>-1000.0</td>\n    </tr>\n    <tr>\n      <th>2</th>\n      <td>5000.0</td>\n      <td>-2200.0</td>\n      <td>-8200.0</td>\n      <td>2800.0</td>\n    </tr>\n    <tr>\n      <th>3</th>\n      <td>8000.0</td>\n      <td>-1640.0</td>\n      <td>-1840.0</td>\n      <td>6360.0</td>\n    </tr>\n    <tr>\n      <th>4</th>\n      <td>6000.0</td>\n      <td>-368.0</td>\n      <td>3792.0</td>\n      <td>5632.0</td>\n    </tr>\n    <tr>\n      <th>5</th>\n      <td>2999.6</td>\n      <td>758.4</td>\n      <td>7550.0</td>\n      <td>3758.0</td>\n    </tr>\n  </tbody>\n</table>\n</div>"
     },
     "metadata": {},
     "execution_count": 13
    }
   ],
   "source": [
    "cash_flows(0.2, [-10000, 1000, 5000, 8000, 6000, 2999.6])"
   ]
  },
  {
   "cell_type": "code",
   "execution_count": 14,
   "metadata": {},
   "outputs": [
    {
     "output_type": "execute_result",
     "data": {
      "text/plain": [
       "4716.981132075472"
      ]
     },
     "metadata": {},
     "execution_count": 14
    },
    {
     "output_type": "execute_result",
     "data": {
      "text/plain": [
       "5037.715698193811"
      ]
     },
     "metadata": {},
     "execution_count": 14
    },
    {
     "output_type": "stream",
     "name": "stderr",
     "text": [
      "/home/arunscape/.local/lib/python3.9/site-packages/numpy_financial/_financial.py:296: RuntimeWarning: divide by zero encountered in long_scalars\n  A = -(fv + pv)/(pmt+0)\n"
     ]
    },
    {
     "output_type": "execute_result",
     "data": {
      "text/plain": [
       "array(9.00646834)"
      ]
     },
     "metadata": {},
     "execution_count": 14
    },
    {
     "output_type": "execute_result",
     "data": {
      "text/plain": [
       "0.2387205315755283"
      ]
     },
     "metadata": {},
     "execution_count": 14
    },
    {
     "output_type": "execute_result",
     "data": {
      "text/plain": [
       "0.11999966249944216"
      ]
     },
     "metadata": {},
     "execution_count": 14
    }
   ],
   "source": [
    "single_present(5000, 0.06, 1)\n",
    "single_present(6000, 0.06, 3)\n",
    "npf.nper(0.08, 0, 1, -2)\n",
    "i=ia_APR_per_month_compounded_monthly(0.018)\n",
    "i\n",
    "npf.rate(5, 5548.19, -20000, 0)\n"
   ]
  },
  {
   "cell_type": "code",
   "execution_count": 15,
   "metadata": {},
   "outputs": [
    {
     "output_type": "execute_result",
     "data": {
      "text/plain": [
       "FiniteSet(0.0849942182828878)"
      ],
      "text/latex": "$\\displaystyle \\left\\{0.0849942182828878\\right\\}$"
     },
     "metadata": {},
     "execution_count": 15
    }
   ],
   "source": [
    "# find nominal interest rate if effective annual yield is 8.87%\n",
    "r = sym.symbols('r')\n",
    "expr = -0.0887 + effective_rate_per_payment_period(r, M=365)\n",
    "solve(expr, r)"
   ]
  },
  {
   "cell_type": "code",
   "execution_count": 16,
   "metadata": {},
   "outputs": [
    {
     "output_type": "execute_result",
     "data": {
      "text/plain": [
       "13586.795822038372"
      ]
     },
     "metadata": {},
     "execution_count": 16
    },
    {
     "output_type": "execute_result",
     "data": {
      "text/plain": [
       "0.591898463530025"
      ]
     },
     "metadata": {},
     "execution_count": 16
    }
   ],
   "source": [
    "A = eq_capital_recovery(100000, 0.06, 10)\n",
    "A\n",
    "principal_payment(100000, 0.06, 10, 2)/A"
   ]
  },
  {
   "cell_type": "code",
   "execution_count": 17,
   "metadata": {},
   "outputs": [
    {
     "output_type": "execute_result",
     "data": {
      "text/plain": [
       "2046.80239208903"
      ]
     },
     "metadata": {},
     "execution_count": 17
    }
   ],
   "source": [
    "a = single_present(20000, 0.15, 2)\n",
    "b = single_present(40000, 0.15, 8)\n",
    "a-b"
   ]
  },
  {
   "cell_type": "code",
   "execution_count": 18,
   "metadata": {},
   "outputs": [
    {
     "output_type": "execute_result",
     "data": {
      "text/plain": [
       "28430.900770563378"
      ]
     },
     "metadata": {},
     "execution_count": 18
    },
    {
     "output_type": "execute_result",
     "data": {
      "text/plain": [
       "34401.389932381695"
      ]
     },
     "metadata": {},
     "execution_count": 18
    }
   ],
   "source": [
    "p = eq_present(7500, 0.1, 5)\n",
    "p\n",
    "p * time_shift(0.1, 2)\n"
   ]
  },
  {
   "cell_type": "code",
   "execution_count": 19,
   "metadata": {},
   "outputs": [
    {
     "output_type": "execute_result",
     "data": {
      "text/plain": [
       "array(10.09249272)"
      ]
     },
     "metadata": {},
     "execution_count": 19
    },
    {
     "output_type": "execute_result",
     "data": {
      "text/plain": [
       "3.0"
      ]
     },
     "metadata": {},
     "execution_count": 19
    }
   ],
   "source": [
    "n=npf.nper(0.115, 0, -10000, 30000)\n",
    "n\n",
    "single_future(1, 0.115, n)"
   ]
  },
  {
   "cell_type": "code",
   "execution_count": 20,
   "metadata": {},
   "outputs": [
    {
     "output_type": "execute_result",
     "data": {
      "text/plain": [
       "27307.781170978018"
      ]
     },
     "metadata": {},
     "execution_count": 20
    }
   ],
   "source": [
    "p = 800 + eq_present(1500, 0.12, 9)\n",
    "p * time_shift(0.12, 10)"
   ]
  },
  {
   "cell_type": "code",
   "execution_count": 21,
   "metadata": {},
   "outputs": [
    {
     "output_type": "execute_result",
     "data": {
      "text/plain": [
       "11543.167839464724"
      ]
     },
     "metadata": {},
     "execution_count": 21
    }
   ],
   "source": [
    "p = eq_present(2000, 0.15, 10)\n",
    "p * time_shift(0.15, 1)"
   ]
  },
  {
   "cell_type": "code",
   "execution_count": 22,
   "metadata": {},
   "outputs": [
    {
     "output_type": "execute_result",
     "data": {
      "text/plain": [
       "11543.167839464724"
      ]
     },
     "metadata": {},
     "execution_count": 22
    },
    {
     "output_type": "execute_result",
     "data": {
      "text/plain": [
       "46698.551947521235"
      ]
     },
     "metadata": {},
     "execution_count": 22
    },
    {
     "output_type": "execute_result",
     "data": {
      "text/plain": [
       "-46698.551947521235"
      ]
     },
     "metadata": {},
     "execution_count": 22
    }
   ],
   "source": [
    "p = eq_present(2000, 0.15, 10)\n",
    "p * time_shift(0.15, 1)\n",
    "p * time_shift(0.15, 11)\n",
    "npf.fv(0.15, 10, 2000, 0, when='start')\n"
   ]
  },
  {
   "cell_type": "code",
   "execution_count": 23,
   "metadata": {},
   "outputs": [
    {
     "output_type": "execute_result",
     "data": {
      "text/plain": [
       "FiniteSet(10606.692467975)"
      ],
      "text/latex": "$\\displaystyle \\left\\{10606.692467975\\right\\}$"
     },
     "metadata": {},
     "execution_count": 23
    }
   ],
   "source": [
    "A = sym.symbols('A')\n",
    "\n",
    "expr = -50000 + eq_present(A, 0.1, 4) + eq_present(A, 0.1, 3) * time_shift(0.1, -5)\n",
    "solve(expr, A)"
   ]
  },
  {
   "cell_type": "code",
   "execution_count": 24,
   "metadata": {},
   "outputs": [
    {
     "output_type": "stream",
     "name": "stdout",
     "text": [
      "net present worth 4934.721209912535\n"
     ]
    },
    {
     "output_type": "execute_result",
     "data": {
      "text/plain": [
       "     An  interest  project balance  difference\n",
       "0  1000     0.000         1000.000    1000.000\n",
       "1  1250   120.000         2370.000    1370.000\n",
       "2  1750   284.400         4404.400    2034.400\n",
       "3  2000   528.528         6932.928    2528.528"
      ],
      "text/html": "<div>\n<style scoped>\n    .dataframe tbody tr th:only-of-type {\n        vertical-align: middle;\n    }\n\n    .dataframe tbody tr th {\n        vertical-align: top;\n    }\n\n    .dataframe thead th {\n        text-align: right;\n    }\n</style>\n<table border=\"1\" class=\"dataframe\">\n  <thead>\n    <tr style=\"text-align: right;\">\n      <th></th>\n      <th>An</th>\n      <th>interest</th>\n      <th>project balance</th>\n      <th>difference</th>\n    </tr>\n  </thead>\n  <tbody>\n    <tr>\n      <th>0</th>\n      <td>1000</td>\n      <td>0.000</td>\n      <td>1000.000</td>\n      <td>1000.000</td>\n    </tr>\n    <tr>\n      <th>1</th>\n      <td>1250</td>\n      <td>120.000</td>\n      <td>2370.000</td>\n      <td>1370.000</td>\n    </tr>\n    <tr>\n      <th>2</th>\n      <td>1750</td>\n      <td>284.400</td>\n      <td>4404.400</td>\n      <td>2034.400</td>\n    </tr>\n    <tr>\n      <th>3</th>\n      <td>2000</td>\n      <td>528.528</td>\n      <td>6932.928</td>\n      <td>2528.528</td>\n    </tr>\n  </tbody>\n</table>\n</div>"
     },
     "metadata": {},
     "execution_count": 24
    }
   ],
   "source": [
    "cash_flows(0.12, [1000, 1250, 1750, 2000])"
   ]
  },
  {
   "cell_type": "code",
   "execution_count": 25,
   "metadata": {},
   "outputs": [
    {
     "output_type": "execute_result",
     "data": {
      "text/plain": [
       "5204.030210161687"
      ]
     },
     "metadata": {},
     "execution_count": 25
    }
   ],
   "source": [
    "single_present(1000, 0.12, 1)+single_present(1250, 0.12, 2) + single_present(1500, 0.12, 3) + single_present(1750, 0.12, 4) + single_present(2000, 0.12, 5)"
   ]
  },
  {
   "cell_type": "code",
   "execution_count": 26,
   "metadata": {},
   "outputs": [
    {
     "output_type": "execute_result",
     "data": {
      "text/plain": [
       "5204.030210161696"
      ]
     },
     "metadata": {},
     "execution_count": 26
    }
   ],
   "source": [
    "eq_present(1000, 0.12, 5) + linear_present(250, 0.12, 5)"
   ]
  },
  {
   "cell_type": "code",
   "execution_count": 27,
   "metadata": {},
   "outputs": [
    {
     "output_type": "execute_result",
     "data": {
      "text/plain": [
       "0.12550881000000014"
      ]
     },
     "metadata": {},
     "execution_count": 27
    },
    {
     "output_type": "execute_result",
     "data": {
      "text/plain": [
       "0.12187343757193836"
      ]
     },
     "metadata": {},
     "execution_count": 27
    }
   ],
   "source": [
    "effective_annual_interest_rate(0.12, M=4)\n",
    "effective_annual_interest_rate(0.115, math.inf)"
   ]
  },
  {
   "cell_type": "code",
   "execution_count": 28,
   "metadata": {},
   "outputs": [
    {
     "output_type": "execute_result",
     "data": {
      "text/plain": [
       "0.030301000000000133"
      ]
     },
     "metadata": {},
     "execution_count": 28
    },
    {
     "output_type": "execute_result",
     "data": {
      "text/plain": [
       "0.12682503013196977"
      ]
     },
     "metadata": {},
     "execution_count": 28
    },
    {
     "output_type": "execute_result",
     "data": {
      "text/plain": [
       "807584.8010734377"
      ]
     },
     "metadata": {},
     "execution_count": 28
    }
   ],
   "source": [
    "i = effective_rate_per_payment_period(0.12, M=12, K=4)\n",
    "i\n",
    "\n",
    "effective_annual_interest_rate(0.12, M=12)\n",
    "\n",
    "F= eq_future(9000, i, 11*4)\n",
    "F"
   ]
  },
  {
   "cell_type": "code",
   "execution_count": 29,
   "metadata": {},
   "outputs": [
    {
     "output_type": "stream",
     "name": "stdout",
     "text": [
      "net present worth 2483.6852922366197\n"
     ]
    },
    {
     "output_type": "execute_result",
     "data": {
      "text/plain": [
       "       An  interest  project balance  difference\n",
       "0 -3000.0       0.0            -3000       -3000\n",
       "1   300.0    -300.0            -3000           0\n",
       "2  4100.0    -300.0              800        3800\n",
       "3   120.0      80.0             1000         200\n",
       "4   900.0     100.0             2000        1000\n",
       "5  1800.0     200.0             4000        2000"
      ],
      "text/html": "<div>\n<style scoped>\n    .dataframe tbody tr th:only-of-type {\n        vertical-align: middle;\n    }\n\n    .dataframe tbody tr th {\n        vertical-align: top;\n    }\n\n    .dataframe thead th {\n        text-align: right;\n    }\n</style>\n<table border=\"1\" class=\"dataframe\">\n  <thead>\n    <tr style=\"text-align: right;\">\n      <th></th>\n      <th>An</th>\n      <th>interest</th>\n      <th>project balance</th>\n      <th>difference</th>\n    </tr>\n  </thead>\n  <tbody>\n    <tr>\n      <th>0</th>\n      <td>-3000.0</td>\n      <td>0.0</td>\n      <td>-3000</td>\n      <td>-3000</td>\n    </tr>\n    <tr>\n      <th>1</th>\n      <td>300.0</td>\n      <td>-300.0</td>\n      <td>-3000</td>\n      <td>0</td>\n    </tr>\n    <tr>\n      <th>2</th>\n      <td>4100.0</td>\n      <td>-300.0</td>\n      <td>800</td>\n      <td>3800</td>\n    </tr>\n    <tr>\n      <th>3</th>\n      <td>120.0</td>\n      <td>80.0</td>\n      <td>1000</td>\n      <td>200</td>\n    </tr>\n    <tr>\n      <th>4</th>\n      <td>900.0</td>\n      <td>100.0</td>\n      <td>2000</td>\n      <td>1000</td>\n    </tr>\n    <tr>\n      <th>5</th>\n      <td>1800.0</td>\n      <td>200.0</td>\n      <td>4000</td>\n      <td>2000</td>\n    </tr>\n  </tbody>\n</table>\n</div>"
     },
     "metadata": {},
     "execution_count": 29
    }
   ],
   "source": [
    "project_balance(0.1, [-3000, -3000, 800, 1000, 2000, 4000])"
   ]
  },
  {
   "cell_type": "code",
   "execution_count": 30,
   "metadata": {},
   "outputs": [
    {
     "output_type": "execute_result",
     "data": {
      "text/plain": [
       "15122.87334593573"
      ]
     },
     "metadata": {},
     "execution_count": 30
    },
    {
     "output_type": "execute_result",
     "data": {
      "text/plain": [
       "15122.0709538467"
      ]
     },
     "metadata": {},
     "execution_count": 30
    }
   ],
   "source": [
    "single_present(20000, 0.15, 2)\n",
    "single_present(40000, 0.15, 8) + 2046"
   ]
  },
  {
   "cell_type": "code",
   "execution_count": 31,
   "metadata": {},
   "outputs": [
    {
     "output_type": "execute_result",
     "data": {
      "text/plain": [
       "28431.404958677682"
      ]
     },
     "metadata": {},
     "execution_count": 31
    },
    {
     "output_type": "execute_result",
     "data": {
      "text/plain": [
       "28430.900770563378"
      ]
     },
     "metadata": {},
     "execution_count": 31
    }
   ],
   "source": [
    "single_present(34402, 0.1, 2)\n",
    "eq_present(7500, 0.1, 5)"
   ]
  },
  {
   "cell_type": "code",
   "execution_count": 32,
   "metadata": {},
   "outputs": [
    {
     "output_type": "execute_result",
     "data": {
      "text/plain": [
       "array(3.8870273)"
      ]
     },
     "metadata": {},
     "execution_count": 32
    },
    {
     "output_type": "stream",
     "name": "stderr",
     "text": [
      "/home/arunscape/.local/lib/python3.9/site-packages/numpy_financial/_financial.py:296: RuntimeWarning: divide by zero encountered in long_scalars\n  A = -(fv + pv)/(pmt+0)\n"
     ]
    },
    {
     "output_type": "execute_result",
     "data": {
      "text/plain": [
       "array(10.09249272)"
      ]
     },
     "metadata": {},
     "execution_count": 32
    }
   ],
   "source": [
    "npf.nper(0.115, 1, -3)\n",
    "single_periods(3, 1, 0.115)"
   ]
  },
  {
   "cell_type": "code",
   "execution_count": 33,
   "metadata": {},
   "outputs": [
    {
     "output_type": "execute_result",
     "data": {
      "text/plain": [
       "8792.374687730256"
      ]
     },
     "metadata": {},
     "execution_count": 33
    },
    {
     "output_type": "execute_result",
     "data": {
      "text/plain": [
       "8792.374687730256"
      ]
     },
     "metadata": {},
     "execution_count": 33
    }
   ],
   "source": [
    "p= eq_present(1500, 0.12, 9) + 800\n",
    "F = p * time_shift(0.12, 10)\n",
    "single_present(F, 0.12, 10)\n",
    "p"
   ]
  },
  {
   "cell_type": "code",
   "execution_count": 34,
   "metadata": {},
   "outputs": [
    {
     "output_type": "execute_result",
     "data": {
      "text/plain": [
       "46698.551947521235"
      ]
     },
     "metadata": {},
     "execution_count": 34
    }
   ],
   "source": [
    "npf.fv(0.15, 10, -2000, 0, when='start')"
   ]
  },
  {
   "cell_type": "code",
   "execution_count": 35,
   "metadata": {},
   "outputs": [
    {
     "output_type": "stream",
     "name": "stdout",
     "text": [
      "net present worth 50001.4497074651\n"
     ]
    },
    {
     "output_type": "execute_result",
     "data": {
      "text/plain": [
       "      An     interest  project balance    difference\n",
       "0      0     0.000000         0.000000      0.000000\n",
       "1  10607     0.000000     10607.000000  10607.000000\n",
       "2  10607  1060.700000     22274.700000  11667.700000\n",
       "3  10607  2227.470000     35109.170000  12834.470000\n",
       "4  10607  3510.917000     49227.087000  14117.917000\n",
       "5      0  4922.708700     54149.795700   4922.708700\n",
       "6  10607  5414.979570     70171.775270  16021.979570\n",
       "7  10607  7017.177527     87795.952797  17624.177527\n",
       "8  10607  8779.595280    107182.548077  19386.595280"
      ],
      "text/html": "<div>\n<style scoped>\n    .dataframe tbody tr th:only-of-type {\n        vertical-align: middle;\n    }\n\n    .dataframe tbody tr th {\n        vertical-align: top;\n    }\n\n    .dataframe thead th {\n        text-align: right;\n    }\n</style>\n<table border=\"1\" class=\"dataframe\">\n  <thead>\n    <tr style=\"text-align: right;\">\n      <th></th>\n      <th>An</th>\n      <th>interest</th>\n      <th>project balance</th>\n      <th>difference</th>\n    </tr>\n  </thead>\n  <tbody>\n    <tr>\n      <th>0</th>\n      <td>0</td>\n      <td>0.000000</td>\n      <td>0.000000</td>\n      <td>0.000000</td>\n    </tr>\n    <tr>\n      <th>1</th>\n      <td>10607</td>\n      <td>0.000000</td>\n      <td>10607.000000</td>\n      <td>10607.000000</td>\n    </tr>\n    <tr>\n      <th>2</th>\n      <td>10607</td>\n      <td>1060.700000</td>\n      <td>22274.700000</td>\n      <td>11667.700000</td>\n    </tr>\n    <tr>\n      <th>3</th>\n      <td>10607</td>\n      <td>2227.470000</td>\n      <td>35109.170000</td>\n      <td>12834.470000</td>\n    </tr>\n    <tr>\n      <th>4</th>\n      <td>10607</td>\n      <td>3510.917000</td>\n      <td>49227.087000</td>\n      <td>14117.917000</td>\n    </tr>\n    <tr>\n      <th>5</th>\n      <td>0</td>\n      <td>4922.708700</td>\n      <td>54149.795700</td>\n      <td>4922.708700</td>\n    </tr>\n    <tr>\n      <th>6</th>\n      <td>10607</td>\n      <td>5414.979570</td>\n      <td>70171.775270</td>\n      <td>16021.979570</td>\n    </tr>\n    <tr>\n      <th>7</th>\n      <td>10607</td>\n      <td>7017.177527</td>\n      <td>87795.952797</td>\n      <td>17624.177527</td>\n    </tr>\n    <tr>\n      <th>8</th>\n      <td>10607</td>\n      <td>8779.595280</td>\n      <td>107182.548077</td>\n      <td>19386.595280</td>\n    </tr>\n  </tbody>\n</table>\n</div>"
     },
     "metadata": {},
     "execution_count": 35
    }
   ],
   "source": [
    "cash_flows(0.1, [0, 10607, 10607, 10607, 10607, 0, 10607, 10607, 10607])"
   ]
  },
  {
   "cell_type": "code",
   "execution_count": 36,
   "metadata": {},
   "outputs": [
    {
     "output_type": "stream",
     "name": "stdout",
     "text": [
      "net present worth 5204.030210161687\n"
     ]
    },
    {
     "output_type": "execute_result",
     "data": {
      "text/plain": [
       "     An   interest  project balance  difference\n",
       "0     0    0.00000          0.00000     0.00000\n",
       "1  1000    0.00000       1000.00000  1000.00000\n",
       "2  1250  120.00000       2370.00000  1370.00000\n",
       "3  1500  284.40000       4154.40000  1784.40000\n",
       "4  1750  498.52800       6402.92800  2248.52800\n",
       "5  2000  768.35136       9171.27936  2768.35136"
      ],
      "text/html": "<div>\n<style scoped>\n    .dataframe tbody tr th:only-of-type {\n        vertical-align: middle;\n    }\n\n    .dataframe tbody tr th {\n        vertical-align: top;\n    }\n\n    .dataframe thead th {\n        text-align: right;\n    }\n</style>\n<table border=\"1\" class=\"dataframe\">\n  <thead>\n    <tr style=\"text-align: right;\">\n      <th></th>\n      <th>An</th>\n      <th>interest</th>\n      <th>project balance</th>\n      <th>difference</th>\n    </tr>\n  </thead>\n  <tbody>\n    <tr>\n      <th>0</th>\n      <td>0</td>\n      <td>0.00000</td>\n      <td>0.00000</td>\n      <td>0.00000</td>\n    </tr>\n    <tr>\n      <th>1</th>\n      <td>1000</td>\n      <td>0.00000</td>\n      <td>1000.00000</td>\n      <td>1000.00000</td>\n    </tr>\n    <tr>\n      <th>2</th>\n      <td>1250</td>\n      <td>120.00000</td>\n      <td>2370.00000</td>\n      <td>1370.00000</td>\n    </tr>\n    <tr>\n      <th>3</th>\n      <td>1500</td>\n      <td>284.40000</td>\n      <td>4154.40000</td>\n      <td>1784.40000</td>\n    </tr>\n    <tr>\n      <th>4</th>\n      <td>1750</td>\n      <td>498.52800</td>\n      <td>6402.92800</td>\n      <td>2248.52800</td>\n    </tr>\n    <tr>\n      <th>5</th>\n      <td>2000</td>\n      <td>768.35136</td>\n      <td>9171.27936</td>\n      <td>2768.35136</td>\n    </tr>\n  </tbody>\n</table>\n</div>"
     },
     "metadata": {},
     "execution_count": 36
    }
   ],
   "source": [
    "cash_flows(0.12, [0, 1000, 1250, 1500, 1750, 2000])"
   ]
  },
  {
   "cell_type": "code",
   "execution_count": 37,
   "metadata": {},
   "outputs": [
    {
     "output_type": "execute_result",
     "data": {
      "text/plain": [
       "0.12550881000000014"
      ]
     },
     "metadata": {},
     "execution_count": 37
    },
    {
     "output_type": "execute_result",
     "data": {
      "text/plain": [
       "0.12187343757193836"
      ]
     },
     "metadata": {},
     "execution_count": 37
    }
   ],
   "source": [
    "effective_annual_interest_rate(0.12, M=4)\n",
    "effective_annual_interest_rate(0.115, math.inf)"
   ]
  },
  {
   "cell_type": "code",
   "execution_count": 38,
   "metadata": {},
   "outputs": [
    {
     "output_type": "execute_result",
     "data": {
      "text/plain": [
       "0.030301000000000133"
      ]
     },
     "metadata": {},
     "execution_count": 38
    },
    {
     "output_type": "execute_result",
     "data": {
      "text/plain": [
       "807584.8010734377"
      ]
     },
     "metadata": {},
     "execution_count": 38
    },
    {
     "output_type": "execute_result",
     "data": {
      "text/plain": [
       "217153.48198324232"
      ]
     },
     "metadata": {},
     "execution_count": 38
    },
    {
     "output_type": "execute_result",
     "data": {
      "text/plain": [
       "217147.88873096718"
      ]
     },
     "metadata": {},
     "execution_count": 38
    }
   ],
   "source": [
    "iq= effective_rate_per_payment_period(0.12, M=12, K=4)\n",
    "iq\n",
    "\n",
    "eq_future(9000, iq, 11*4)\n",
    "eq_present(9000, iq, 11*4)\n",
    "single_present(807564, iq, 11*4)"
   ]
  },
  {
   "cell_type": "code",
   "execution_count": 39,
   "metadata": {},
   "outputs": [
    {
     "output_type": "stream",
     "name": "stdout",
     "text": [
      "net present worth 2483.6852922366197\n"
     ]
    },
    {
     "output_type": "execute_result",
     "data": {
      "text/plain": [
       "       An  interest  project balance  difference\n",
       "0 -3000.0       0.0            -3000       -3000\n",
       "1   300.0    -300.0            -3000           0\n",
       "2  4100.0    -300.0              800        3800\n",
       "3   120.0      80.0             1000         200\n",
       "4   900.0     100.0             2000        1000\n",
       "5  1800.0     200.0             4000        2000"
      ],
      "text/html": "<div>\n<style scoped>\n    .dataframe tbody tr th:only-of-type {\n        vertical-align: middle;\n    }\n\n    .dataframe tbody tr th {\n        vertical-align: top;\n    }\n\n    .dataframe thead th {\n        text-align: right;\n    }\n</style>\n<table border=\"1\" class=\"dataframe\">\n  <thead>\n    <tr style=\"text-align: right;\">\n      <th></th>\n      <th>An</th>\n      <th>interest</th>\n      <th>project balance</th>\n      <th>difference</th>\n    </tr>\n  </thead>\n  <tbody>\n    <tr>\n      <th>0</th>\n      <td>-3000.0</td>\n      <td>0.0</td>\n      <td>-3000</td>\n      <td>-3000</td>\n    </tr>\n    <tr>\n      <th>1</th>\n      <td>300.0</td>\n      <td>-300.0</td>\n      <td>-3000</td>\n      <td>0</td>\n    </tr>\n    <tr>\n      <th>2</th>\n      <td>4100.0</td>\n      <td>-300.0</td>\n      <td>800</td>\n      <td>3800</td>\n    </tr>\n    <tr>\n      <th>3</th>\n      <td>120.0</td>\n      <td>80.0</td>\n      <td>1000</td>\n      <td>200</td>\n    </tr>\n    <tr>\n      <th>4</th>\n      <td>900.0</td>\n      <td>100.0</td>\n      <td>2000</td>\n      <td>1000</td>\n    </tr>\n    <tr>\n      <th>5</th>\n      <td>1800.0</td>\n      <td>200.0</td>\n      <td>4000</td>\n      <td>2000</td>\n    </tr>\n  </tbody>\n</table>\n</div>"
     },
     "metadata": {},
     "execution_count": 39
    }
   ],
   "source": [
    "project_balance(0.1, [-3000, -3000, 800, 1000, 2000, 4000])"
   ]
  },
  {
   "cell_type": "code",
   "execution_count": 40,
   "metadata": {},
   "outputs": [
    {
     "output_type": "stream",
     "name": "stdout",
     "text": [
      "net present worth 5204.030210161687\n"
     ]
    },
    {
     "output_type": "execute_result",
     "data": {
      "text/plain": [
       "     An   interest  project balance  difference\n",
       "0     0    0.00000          0.00000     0.00000\n",
       "1  1000    0.00000       1000.00000  1000.00000\n",
       "2  1250  120.00000       2370.00000  1370.00000\n",
       "3  1500  284.40000       4154.40000  1784.40000\n",
       "4  1750  498.52800       6402.92800  2248.52800\n",
       "5  2000  768.35136       9171.27936  2768.35136"
      ],
      "text/html": "<div>\n<style scoped>\n    .dataframe tbody tr th:only-of-type {\n        vertical-align: middle;\n    }\n\n    .dataframe tbody tr th {\n        vertical-align: top;\n    }\n\n    .dataframe thead th {\n        text-align: right;\n    }\n</style>\n<table border=\"1\" class=\"dataframe\">\n  <thead>\n    <tr style=\"text-align: right;\">\n      <th></th>\n      <th>An</th>\n      <th>interest</th>\n      <th>project balance</th>\n      <th>difference</th>\n    </tr>\n  </thead>\n  <tbody>\n    <tr>\n      <th>0</th>\n      <td>0</td>\n      <td>0.00000</td>\n      <td>0.00000</td>\n      <td>0.00000</td>\n    </tr>\n    <tr>\n      <th>1</th>\n      <td>1000</td>\n      <td>0.00000</td>\n      <td>1000.00000</td>\n      <td>1000.00000</td>\n    </tr>\n    <tr>\n      <th>2</th>\n      <td>1250</td>\n      <td>120.00000</td>\n      <td>2370.00000</td>\n      <td>1370.00000</td>\n    </tr>\n    <tr>\n      <th>3</th>\n      <td>1500</td>\n      <td>284.40000</td>\n      <td>4154.40000</td>\n      <td>1784.40000</td>\n    </tr>\n    <tr>\n      <th>4</th>\n      <td>1750</td>\n      <td>498.52800</td>\n      <td>6402.92800</td>\n      <td>2248.52800</td>\n    </tr>\n    <tr>\n      <th>5</th>\n      <td>2000</td>\n      <td>768.35136</td>\n      <td>9171.27936</td>\n      <td>2768.35136</td>\n    </tr>\n  </tbody>\n</table>\n</div>"
     },
     "metadata": {},
     "execution_count": 40
    }
   ],
   "source": [
    "cash_flows(0.12, [0, 1000, 1250, 1500, 1750, 2000])"
   ]
  },
  {
   "cell_type": "code",
   "execution_count": 41,
   "metadata": {},
   "outputs": [
    {
     "output_type": "execute_result",
     "data": {
      "text/plain": [
       "-1999.976361257546"
      ]
     },
     "metadata": {},
     "execution_count": 41
    },
    {
     "output_type": "execute_result",
     "data": {
      "text/plain": [
       "-46698.551947521235"
      ]
     },
     "metadata": {},
     "execution_count": 41
    }
   ],
   "source": [
    "npf.pmt(0.15, 10, 0, 46698, when='start')\n",
    "npf.fv(0.15, 10, 2000, 0, when='start')"
   ]
  },
  {
   "cell_type": "code",
   "execution_count": null,
   "metadata": {},
   "outputs": [],
   "source": []
  }
 ],
 "metadata": {
  "kernelspec": {
   "name": "python393jvsc74a57bd0767d51c1340bd893661ea55ea3124f6de3c7a262a8b4abca0554b478b1e2ff90",
   "display_name": "Python 3.9.3 64-bit"
  },
  "language_info": {
   "codemirror_mode": {
    "name": "ipython",
    "version": 3
   },
   "file_extension": ".py",
   "mimetype": "text/x-python",
   "name": "python",
   "nbconvert_exporter": "python",
   "pygments_lexer": "ipython3",
   "version": "3.9.3"
  },
  "orig_nbformat": 2
 },
 "nbformat": 4,
 "nbformat_minor": 2
}