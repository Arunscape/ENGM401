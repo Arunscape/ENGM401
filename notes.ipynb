{
 "metadata": {
  "language_info": {
   "codemirror_mode": {
    "name": "ipython",
    "version": 3
   },
   "file_extension": ".py",
   "mimetype": "text/x-python",
   "name": "python",
   "nbconvert_exporter": "python",
   "pygments_lexer": "ipython3",
   "version": "3.9.1-final"
  },
  "orig_nbformat": 2,
  "kernelspec": {
   "name": "python3",
   "display_name": "Python 3",
   "language": "python"
  }
 },
 "nbformat": 4,
 "nbformat_minor": 2,
 "cells": [
  {
   "cell_type": "code",
   "execution_count": 2,
   "metadata": {},
   "outputs": [],
   "source": [
    "\n",
    "from util import *\n",
    "from IPython.core.interactiveshell import InteractiveShell\n",
    "\n",
    "InteractiveShell.ast_node_interactivity = \"all\"\n"
   ]
  },
  {
   "source": [
    "Chapter 3"
   ],
   "cell_type": "markdown",
   "metadata": {}
  },
  {
   "cell_type": "code",
   "execution_count": 4,
   "metadata": {},
   "outputs": [
    {
     "output_type": "execute_result",
     "data": {
      "text/plain": [
       "320.734566118339"
      ]
     },
     "metadata": {},
     "execution_count": 4
    }
   ],
   "source": [
    "a = single_present(5000, 0.06, 1)\n",
    "b = single_present(6000, 0.06, 3)\n",
    "b-a"
   ]
  },
  {
   "cell_type": "code",
   "execution_count": 6,
   "metadata": {},
   "outputs": [
    {
     "output_type": "execute_result",
     "data": {
      "text/plain": [
       "4407.984230400001"
      ]
     },
     "metadata": {},
     "execution_count": 6
    }
   ],
   "source": [
    "# future worth after n years at i interest\n",
    "single_future(3000, 0.08, 5)"
   ]
  },
  {
   "cell_type": "code",
   "execution_count": 8,
   "metadata": {},
   "outputs": [
    {
     "output_type": "execute_result",
     "data": {
      "text/plain": [
       "5045.5371900826485"
      ]
     },
     "metadata": {},
     "execution_count": 8
    }
   ],
   "source": [
    "a = eq_present(1000, 0.1, 5)\n",
    "b = single_future(a, 0.1, 3)\n",
    "b"
   ]
  },
  {
   "cell_type": "code",
   "execution_count": 10,
   "metadata": {},
   "outputs": [
    {
     "output_type": "execute_result",
     "data": {
      "text/plain": [
       "0.08685794289921286"
      ]
     },
     "metadata": {},
     "execution_count": 10
    }
   ],
   "source": [
    "single_rate(92, 40, 10)"
   ]
  },
  {
   "cell_type": "code",
   "execution_count": 12,
   "metadata": {},
   "outputs": [
    {
     "output_type": "execute_result",
     "data": {
      "text/plain": [
       "array(9.00646834)"
      ]
     },
     "metadata": {},
     "execution_count": 12
    }
   ],
   "source": [
    "single_periods(20000, 10000, 0.08)"
   ]
  },
  {
   "cell_type": "code",
   "execution_count": 14,
   "metadata": {},
   "outputs": [
    {
     "output_type": "execute_result",
     "data": {
      "text/plain": [
       "5310.2575776"
      ]
     },
     "metadata": {},
     "execution_count": 14
    },
    {
     "output_type": "execute_result",
     "data": {
      "text/plain": [
       "5310.2575776"
      ]
     },
     "metadata": {},
     "execution_count": 14
    }
   ],
   "source": [
    "single_future(1000, 0.06, 5) + single_future(2000, 0.06, 3) + single_future(1500, 0.06, 1)\n",
    "a = 1000 + single_present(2000, 0.06, 2) + single_present(1500, 0.06, 4)\n",
    "single_future(a, 0.06, 5)"
   ]
  },
  {
   "cell_type": "code",
   "execution_count": 16,
   "metadata": {},
   "outputs": [
    {
     "output_type": "execute_result",
     "data": {
      "text/plain": [
       "4421.3628148121625"
      ]
     },
     "metadata": {},
     "execution_count": 16
    }
   ],
   "source": [
    "single_future(2000, 0.12, 7)"
   ]
  },
  {
   "cell_type": "code",
   "execution_count": 18,
   "metadata": {},
   "outputs": [
    {
     "output_type": "execute_result",
     "data": {
      "text/plain": [
       "47.12000000000262"
      ]
     },
     "metadata": {},
     "execution_count": 18
    }
   ],
   "source": [
    "a = single_future(10000, 0.08, 3)\n",
    "a - simple_interest(10000, 0.085, 3)"
   ]
  },
  {
   "cell_type": "code",
   "execution_count": 20,
   "metadata": {},
   "outputs": [
    {
     "output_type": "execute_result",
     "data": {
      "text/plain": [
       "24481.130869580036"
      ]
     },
     "metadata": {},
     "execution_count": 20
    }
   ],
   "source": [
    "eq_future(1500, 0.1, 9) * time_shift(0.1, 1) + single_future(800, 0.1, 10)"
   ]
  },
  {
   "cell_type": "code",
   "execution_count": 22,
   "metadata": {},
   "outputs": [
    {
     "output_type": "execute_result",
     "data": {
      "text/plain": [
       "13586.795822038372"
      ]
     },
     "metadata": {},
     "execution_count": 22
    },
    {
     "output_type": "execute_result",
     "data": {
      "text/plain": [
       "8348.497868002283"
      ]
     },
     "metadata": {},
     "execution_count": 22
    }
   ],
   "source": [
    "A = eq_capital_recovery(100000, 0.06, 10)\n",
    "A\n",
    "b = interest_payment(A, 0.1, 10, 1)\n",
    "b"
   ]
  },
  {
   "cell_type": "code",
   "execution_count": 24,
   "metadata": {},
   "outputs": [
    {
     "output_type": "execute_result",
     "data": {
      "text/plain": [
       "11729.713216670669"
      ]
     },
     "metadata": {},
     "execution_count": 24
    }
   ],
   "source": [
    "eq_future(400, 0.08, 15)*time_shift(0.08, 1)"
   ]
  },
  {
   "cell_type": "code",
   "execution_count": 26,
   "metadata": {},
   "outputs": [
    {
     "output_type": "execute_result",
     "data": {
      "text/plain": [
       "2.0774265472260938"
      ]
     },
     "metadata": {},
     "execution_count": 26
    }
   ],
   "source": [
    "single_future(1, 0.08, 9.5)"
   ]
  },
  {
   "cell_type": "code",
   "execution_count": 28,
   "metadata": {},
   "outputs": [
    {
     "output_type": "execute_result",
     "data": {
      "text/plain": [
       "447.6904831388814"
      ]
     },
     "metadata": {},
     "execution_count": 28
    },
    {
     "output_type": "execute_result",
     "data": {
      "text/plain": [
       "447.6686267083097"
      ]
     },
     "metadata": {},
     "execution_count": 28
    }
   ],
   "source": [
    "single_present(100, 0.1, 1) + single_present(100, 0.1, 2) + single_present(150, 0.1, 3) + single_present(100, 0.1, 4) + single_present(150, 0.1, 5)\n",
    "\n",
    "x = 708.8\n",
    "single_present(100, 0.1, 1) + single_present(x, 0.1, 2) - single_present(x, 0.1, 3) - single_present(200, 0.1, 4) + single_present(x, 0.1, 5)"
   ]
  },
  {
   "cell_type": "code",
   "execution_count": 30,
   "metadata": {},
   "outputs": [
    {
     "output_type": "execute_result",
     "data": {
      "text/plain": [
       "2246.5375845000026"
      ]
     },
     "metadata": {},
     "execution_count": 30
    }
   ],
   "source": [
    "single_future(450, 0.1, 8) + eq_future(200, 0.1, 4) * time_shift(0.1, 1) + eq_present(200, 0.1, 2) * time_shift(0.1, 8) - single_future(300, 0.1, 5)"
   ]
  },
  {
   "cell_type": "code",
   "execution_count": 32,
   "metadata": {},
   "outputs": [
    {
     "output_type": "execute_result",
     "data": {
      "text/plain": [
       "20002.880136512762"
      ]
     },
     "metadata": {},
     "execution_count": 32
    }
   ],
   "source": [
    "x = 4364\n",
    "eq_present(x, 0.1, 8) - single_present(x, 0.1, 3)"
   ]
  },
  {
   "cell_type": "code",
   "execution_count": 34,
   "metadata": {},
   "outputs": [
    {
     "output_type": "execute_result",
     "data": {
      "text/plain": [
       "0.2100000000000002"
      ]
     },
     "metadata": {},
     "execution_count": 34
    },
    {
     "output_type": "execute_result",
     "data": {
      "text/plain": [
       "1517.8499620000002"
      ]
     },
     "metadata": {},
     "execution_count": 34
    }
   ],
   "source": [
    "i = (1+0.1)**2 -1\n",
    "i\n",
    "eq_future(200, i, 5)"
   ]
  },
  {
   "cell_type": "code",
   "execution_count": 36,
   "metadata": {},
   "outputs": [
    {
     "output_type": "execute_result",
     "data": {
      "text/plain": [
       "166884653.55791602"
      ]
     },
     "metadata": {},
     "execution_count": 36
    }
   ],
   "source": [
    "i = 0.039\n",
    "eq_present(10.57 * 10**6, i, 25)"
   ]
  },
  {
   "cell_type": "code",
   "execution_count": 38,
   "metadata": {},
   "outputs": [
    {
     "output_type": "execute_result",
     "data": {
      "text/plain": [
       "20207.188529625793"
      ]
     },
     "metadata": {},
     "execution_count": 38
    }
   ],
   "source": [
    "eq_sinking(200000, 0.06, 8)"
   ]
  },
  {
   "cell_type": "code",
   "execution_count": 40,
   "metadata": {},
   "outputs": [
    {
     "output_type": "execute_result",
     "data": {
      "text/plain": [
       "223194.36447488162"
      ]
     },
     "metadata": {},
     "execution_count": 40
    }
   ],
   "source": [
    "geo_present(30000, 0.05, 0.1, 10)"
   ]
  },
  {
   "cell_type": "code",
   "execution_count": 42,
   "metadata": {},
   "outputs": [
    {
     "output_type": "execute_result",
     "data": {
      "text/plain": [
       "5835.816449294729"
      ]
     },
     "metadata": {},
     "execution_count": 42
    }
   ],
   "source": [
    "eq_present(1000, 0.08, 5) + linear_present(250, 0.08, 5)"
   ]
  },
  {
   "source": [
    "# Chapter 4"
   ],
   "cell_type": "markdown",
   "metadata": {}
  },
  {
   "cell_type": "code",
   "execution_count": 44,
   "metadata": {},
   "outputs": [
    {
     "output_type": "execute_result",
     "data": {
      "text/plain": [
       "0.2387205315755283"
      ]
     },
     "metadata": {},
     "execution_count": 44
    }
   ],
   "source": [
    "ia_APR_per_month_compounded_monthly(0.018)"
   ]
  },
  {
   "cell_type": "code",
   "execution_count": 48,
   "metadata": {},
   "outputs": [
    {
     "output_type": "execute_result",
     "data": {
      "text/plain": [
       "0.08774796172119137"
      ]
     },
     "metadata": {},
     "execution_count": 48
    },
    {
     "output_type": "execute_result",
     "data": {
      "text/plain": [
       "0.08654180854823812"
      ]
     },
     "metadata": {},
     "execution_count": 48
    }
   ],
   "source": [
    "# r compounded quarterly\n",
    "r = 0.085\n",
    "M=4\n",
    "(1+r/M)**M - 1\n",
    "\n",
    "math.exp(0.083) -1"
   ]
  },
  {
   "cell_type": "code",
   "execution_count": 49,
   "metadata": {},
   "outputs": [
    {
     "output_type": "execute_result",
     "data": {
      "text/plain": [
       "FiniteSet(0.119999662499442)"
      ],
      "text/latex": "$\\displaystyle \\left\\{0.119999662499442\\right\\}$"
     },
     "metadata": {},
     "execution_count": 49
    }
   ],
   "source": [
    "i = sym.symbols('i')\n",
    "expr = -20000 + eq_present(5548.19, i, 5)\n",
    "solve(expr, i)"
   ]
  },
  {
   "cell_type": "code",
   "execution_count": 53,
   "metadata": {},
   "outputs": [
    {
     "output_type": "execute_result",
     "data": {
      "text/plain": [
       "0.022669171875000282"
      ]
     },
     "metadata": {},
     "execution_count": 53
    }
   ],
   "source": [
    "(1+0.09/12)**3 - 1\n"
   ]
  }
 ]
}