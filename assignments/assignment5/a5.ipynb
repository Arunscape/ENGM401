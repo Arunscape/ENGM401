{
 "cells": [
  {
   "cell_type": "code",
   "execution_count": 39,
   "metadata": {},
   "outputs": [],
   "source": [
    "from util import *"
   ]
  },
  {
   "cell_type": "code",
   "execution_count": 40,
   "metadata": {},
   "outputs": [
    {
     "data": {
      "text/plain": [
       "6272960.077352034"
      ]
     },
     "execution_count": 40,
     "metadata": {},
     "output_type": "execute_result"
    }
   ],
   "source": [
    "#1\n",
    "i = 0.06\n",
    "\n",
    "#take 15 year and make it an annual cost\n",
    "#4000000 - net_present_worth(i, [-4000000] + [-99000]*15 + [870000])\n",
    "\n",
    "init_cost = 4000000\n",
    "\n",
    "yearly_repair = 99000\n",
    "yearly_repair += eq_sinking(870000, i, 15)\n",
    "yearly_repair /i + init_cost"
   ]
  },
  {
   "cell_type": "code",
   "execution_count": 41,
   "metadata": {},
   "outputs": [
    {
     "data": {
      "text/plain": [
       "6044176.076164345"
      ]
     },
     "execution_count": 41,
     "metadata": {},
     "output_type": "execute_result"
    }
   ],
   "source": [
    "i = 0.06\n",
    "\n",
    "#take 15 year and make it an annual cost\n",
    "#4000000 - net_present_worth(i, [-4000000] + [-99000]*15 + [870000])\n",
    "\n",
    "init_cost = 4000000\n",
    "\n",
    "yearly_repair = 99000\n",
    "yearly_repair += eq_sinking(870000, i, 20)\n",
    "yearly_repair /i + init_cost"
   ]
  },
  {
   "cell_type": "code",
   "execution_count": 42,
   "metadata": {},
   "outputs": [
    {
     "data": {
      "text/plain": [
       "5263821.858920137"
      ]
     },
     "execution_count": 42,
     "metadata": {},
     "output_type": "execute_result"
    }
   ],
   "source": [
    "#1\n",
    "i = 0.1\n",
    "\n",
    "#take 15 year and make it an annual cost\n",
    "#4000000 - net_present_worth(i, [-4000000] + [-99000]*15 + [870000])\n",
    "\n",
    "init_cost = 4000000\n",
    "\n",
    "yearly_repair = 99000\n",
    "yearly_repair += eq_sinking(870000, i, 15)\n",
    "yearly_repair /i + init_cost"
   ]
  },
  {
   "cell_type": "code",
   "execution_count": 43,
   "metadata": {},
   "outputs": [
    {
     "data": {
      "text/plain": [
       "5141898.735521148"
      ]
     },
     "execution_count": 43,
     "metadata": {},
     "output_type": "execute_result"
    }
   ],
   "source": [
    "i = 0.10\n",
    "\n",
    "#take 15 year and make it an annual cost\n",
    "#4000000 - net_present_worth(i, [-4000000] + [-99000]*15 + [870000])\n",
    "\n",
    "init_cost = 4000000\n",
    "\n",
    "yearly_repair = 99000\n",
    "yearly_repair += eq_sinking(870000, i, 20)\n",
    "yearly_repair /i + init_cost"
   ]
  },
  {
   "cell_type": "code",
   "execution_count": 44,
   "metadata": {},
   "outputs": [
    {
     "data": {
      "text/plain": [
       "1878.8759158041607"
      ]
     },
     "execution_count": 44,
     "metadata": {},
     "output_type": "execute_result"
    }
   ],
   "source": [
    "#2\n",
    "#accept if AE > 0 or net present value > 0\n",
    "i=0.14\n",
    "\n",
    "equivalent_annual_worth(i, [-6100, 0, 0, 15500])"
   ]
  },
  {
   "cell_type": "code",
   "execution_count": 45,
   "metadata": {},
   "outputs": [
    {
     "data": {
      "text/plain": [
       "94.0162809629022"
      ]
     },
     "execution_count": 45,
     "metadata": {},
     "output_type": "execute_result"
    }
   ],
   "source": [
    "equivalent_annual_worth(i, [-3900, 1500, 1800, 2100])"
   ]
  },
  {
   "cell_type": "code",
   "execution_count": 46,
   "metadata": {},
   "outputs": [
    {
     "data": {
      "text/plain": [
       "933.4457495057554"
      ]
     },
     "execution_count": 46,
     "metadata": {},
     "output_type": "execute_result"
    }
   ],
   "source": [
    "equivalent_annual_worth(i, [-5000, 4000, 3000, 2000])"
   ]
  },
  {
   "cell_type": "code",
   "execution_count": 47,
   "metadata": {},
   "outputs": [
    {
     "data": {
      "text/plain": [
       "957.1722293289905"
      ]
     },
     "execution_count": 47,
     "metadata": {},
     "output_type": "execute_result"
    }
   ],
   "source": [
    "equivalent_annual_worth(i, [-6600, 3800, 3800, 3800])"
   ]
  },
  {
   "cell_type": "code",
   "execution_count": 48,
   "metadata": {},
   "outputs": [
    {
     "data": {
      "text/plain": [
       "74353.34677690525"
      ]
     },
     "execution_count": 48,
     "metadata": {},
     "output_type": "execute_result"
    }
   ],
   "source": [
    "capital_cost(250000, 40000, 0.18, 5)"
   ]
  },
  {
   "cell_type": "code",
   "execution_count": 49,
   "metadata": {},
   "outputs": [
    {
     "name": "stdout",
     "output_type": "stream",
     "text": [
      "net present worth 591.9204024704721\n"
     ]
    },
    {
     "data": {
      "text/html": "<div>\n<style scoped>\n    .dataframe tbody tr th:only-of-type {\n        vertical-align: middle;\n    }\n\n    .dataframe tbody tr th {\n        vertical-align: top;\n    }\n\n    .dataframe thead th {\n        text-align: right;\n    }\n</style>\n<table border=\"1\" class=\"dataframe\">\n  <thead>\n    <tr style=\"text-align: right;\">\n      <th></th>\n      <th>An</th>\n      <th>interest</th>\n      <th>project balance</th>\n      <th>difference</th>\n    </tr>\n  </thead>\n  <tbody>\n    <tr>\n      <th>0</th>\n      <td>-1300</td>\n      <td>0.000000</td>\n      <td>-1300.000000</td>\n      <td>-1300.000000</td>\n    </tr>\n    <tr>\n      <th>1</th>\n      <td>1350</td>\n      <td>-234.000000</td>\n      <td>-184.000000</td>\n      <td>1116.000000</td>\n    </tr>\n    <tr>\n      <th>2</th>\n      <td>800</td>\n      <td>-33.120000</td>\n      <td>582.880000</td>\n      <td>766.880000</td>\n    </tr>\n    <tr>\n      <th>3</th>\n      <td>200</td>\n      <td>104.918400</td>\n      <td>887.798400</td>\n      <td>304.918400</td>\n    </tr>\n    <tr>\n      <th>4</th>\n      <td>100</td>\n      <td>159.803712</td>\n      <td>1147.602112</td>\n      <td>259.803712</td>\n    </tr>\n  </tbody>\n</table>\n</div>",
      "text/plain": [
       "     An    interest  project balance   difference\n",
       "0 -1300    0.000000     -1300.000000 -1300.000000\n",
       "1  1350 -234.000000      -184.000000  1116.000000\n",
       "2   800  -33.120000       582.880000   766.880000\n",
       "3   200  104.918400       887.798400   304.918400\n",
       "4   100  159.803712      1147.602112   259.803712"
      ]
     },
     "execution_count": 49,
     "metadata": {},
     "output_type": "execute_result"
    }
   ],
   "source": [
    "#4\n",
    "cash_flows(0.18, [-1300, 1350, 800, 200, 100])"
   ]
  },
  {
   "cell_type": "code",
   "execution_count": 50,
   "metadata": {},
   "outputs": [
    {
     "name": "stdout",
     "output_type": "stream",
     "text": [
      "net present worth 186.2782003441181\n"
     ]
    },
    {
     "data": {
      "text/html": "<div>\n<style scoped>\n    .dataframe tbody tr th:only-of-type {\n        vertical-align: middle;\n    }\n\n    .dataframe tbody tr th {\n        vertical-align: top;\n    }\n\n    .dataframe thead th {\n        text-align: right;\n    }\n</style>\n<table border=\"1\" class=\"dataframe\">\n  <thead>\n    <tr style=\"text-align: right;\">\n      <th></th>\n      <th>An</th>\n      <th>interest</th>\n      <th>project balance</th>\n      <th>difference</th>\n    </tr>\n  </thead>\n  <tbody>\n    <tr>\n      <th>0</th>\n      <td>-1800</td>\n      <td>0.000000</td>\n      <td>-1800.000000</td>\n      <td>-1800.000000</td>\n    </tr>\n    <tr>\n      <th>1</th>\n      <td>1000</td>\n      <td>-324.000000</td>\n      <td>-1124.000000</td>\n      <td>676.000000</td>\n    </tr>\n    <tr>\n      <th>2</th>\n      <td>800</td>\n      <td>-202.320000</td>\n      <td>-526.320000</td>\n      <td>597.680000</td>\n    </tr>\n    <tr>\n      <th>3</th>\n      <td>800</td>\n      <td>-94.737600</td>\n      <td>178.942400</td>\n      <td>705.262400</td>\n    </tr>\n    <tr>\n      <th>4</th>\n      <td>150</td>\n      <td>32.209632</td>\n      <td>361.152032</td>\n      <td>182.209632</td>\n    </tr>\n  </tbody>\n</table>\n</div>",
      "text/plain": [
       "     An    interest  project balance   difference\n",
       "0 -1800    0.000000     -1800.000000 -1800.000000\n",
       "1  1000 -324.000000     -1124.000000   676.000000\n",
       "2   800 -202.320000      -526.320000   597.680000\n",
       "3   800  -94.737600       178.942400   705.262400\n",
       "4   150   32.209632       361.152032   182.209632"
      ]
     },
     "execution_count": 50,
     "metadata": {},
     "output_type": "execute_result"
    }
   ],
   "source": [
    "cash_flows(0.18, [-1800, 1000, 800, 800, 150])"
   ]
  },
  {
   "cell_type": "code",
   "execution_count": 51,
   "metadata": {},
   "outputs": [
    {
     "data": {
      "text/latex": "$\\displaystyle \\left\\{1490.79081090119\\right\\}$",
      "text/plain": [
       "FiniteSet(1490.79081090119)"
      ]
     },
     "execution_count": 51,
     "metadata": {},
     "output_type": "execute_result"
    }
   ],
   "source": [
    "X = sym.symbols('X')\n",
    "expr = net_present_worth(0.18, [-3600, 1000, X, 1500, X])\n",
    "solve(expr, X)"
   ]
  },
  {
   "cell_type": "code",
   "execution_count": 52,
   "metadata": {},
   "outputs": [
    {
     "data": {
      "text/latex": "$\\displaystyle \\left\\{1490.79081090119\\right\\}$",
      "text/plain": [
       "FiniteSet(1490.79081090119)"
      ]
     },
     "execution_count": 52,
     "metadata": {},
     "output_type": "execute_result"
    }
   ],
   "source": [
    "X = sym.symbols('X')\n",
    "expr = equivalent_annual_worth(0.18, [-3600, 1000, X, 1500, X])\n",
    "solve(expr, X)"
   ]
  },
  {
   "cell_type": "code",
   "execution_count": 53,
   "metadata": {},
   "outputs": [
    {
     "name": "stdout",
     "output_type": "stream",
     "text": [
      "net present worth 343.27342397408137\n"
     ]
    },
    {
     "data": {
      "text/html": "<div>\n<style scoped>\n    .dataframe tbody tr th:only-of-type {\n        vertical-align: middle;\n    }\n\n    .dataframe tbody tr th {\n        vertical-align: top;\n    }\n\n    .dataframe thead th {\n        text-align: right;\n    }\n</style>\n<table border=\"1\" class=\"dataframe\">\n  <thead>\n    <tr style=\"text-align: right;\">\n      <th></th>\n      <th>An</th>\n      <th>interest</th>\n      <th>project balance</th>\n      <th>difference</th>\n    </tr>\n  </thead>\n  <tbody>\n    <tr>\n      <th>0</th>\n      <td>1500</td>\n      <td>0.00000</td>\n      <td>1500.00000</td>\n      <td>1500.00000</td>\n    </tr>\n    <tr>\n      <th>1</th>\n      <td>-430</td>\n      <td>270.00000</td>\n      <td>1340.00000</td>\n      <td>-160.00000</td>\n    </tr>\n    <tr>\n      <th>2</th>\n      <td>-430</td>\n      <td>241.20000</td>\n      <td>1151.20000</td>\n      <td>-188.80000</td>\n    </tr>\n    <tr>\n      <th>3</th>\n      <td>-430</td>\n      <td>207.21600</td>\n      <td>928.41600</td>\n      <td>-222.78400</td>\n    </tr>\n    <tr>\n      <th>4</th>\n      <td>-430</td>\n      <td>167.11488</td>\n      <td>665.53088</td>\n      <td>-262.88512</td>\n    </tr>\n  </tbody>\n</table>\n</div>",
      "text/plain": [
       "     An   interest  project balance  difference\n",
       "0  1500    0.00000       1500.00000  1500.00000\n",
       "1  -430  270.00000       1340.00000  -160.00000\n",
       "2  -430  241.20000       1151.20000  -188.80000\n",
       "3  -430  207.21600        928.41600  -222.78400\n",
       "4  -430  167.11488        665.53088  -262.88512"
      ]
     },
     "execution_count": 53,
     "metadata": {},
     "output_type": "execute_result"
    }
   ],
   "source": [
    "cash_flows(0.18, [1500, -430, -430, -430, -430])"
   ]
  },
  {
   "cell_type": "code",
   "execution_count": 54,
   "metadata": {},
   "outputs": [
    {
     "name": "stdout",
     "output_type": "stream",
     "text": [
      "net present worth -347.36662545582294\n"
     ]
    },
    {
     "data": {
      "text/html": "<div>\n<style scoped>\n    .dataframe tbody tr th:only-of-type {\n        vertical-align: middle;\n    }\n\n    .dataframe tbody tr th {\n        vertical-align: top;\n    }\n\n    .dataframe thead th {\n        text-align: right;\n    }\n</style>\n<table border=\"1\" class=\"dataframe\">\n  <thead>\n    <tr style=\"text-align: right;\">\n      <th></th>\n      <th>An</th>\n      <th>interest</th>\n      <th>project balance</th>\n      <th>difference</th>\n    </tr>\n  </thead>\n  <tbody>\n    <tr>\n      <th>0</th>\n      <td>-1800</td>\n      <td>0.000000</td>\n      <td>-1800.000000</td>\n      <td>-1800.000000</td>\n    </tr>\n    <tr>\n      <th>1</th>\n      <td>540</td>\n      <td>-324.000000</td>\n      <td>-1584.000000</td>\n      <td>216.000000</td>\n    </tr>\n    <tr>\n      <th>2</th>\n      <td>540</td>\n      <td>-285.120000</td>\n      <td>-1329.120000</td>\n      <td>254.880000</td>\n    </tr>\n    <tr>\n      <th>3</th>\n      <td>540</td>\n      <td>-239.241600</td>\n      <td>-1028.361600</td>\n      <td>300.758400</td>\n    </tr>\n    <tr>\n      <th>4</th>\n      <td>540</td>\n      <td>-185.105088</td>\n      <td>-673.466688</td>\n      <td>354.894912</td>\n    </tr>\n  </tbody>\n</table>\n</div>",
      "text/plain": [
       "     An    interest  project balance   difference\n",
       "0 -1800    0.000000     -1800.000000 -1800.000000\n",
       "1   540 -324.000000     -1584.000000   216.000000\n",
       "2   540 -285.120000     -1329.120000   254.880000\n",
       "3   540 -239.241600     -1028.361600   300.758400\n",
       "4   540 -185.105088      -673.466688   354.894912"
      ]
     },
     "execution_count": 54,
     "metadata": {},
     "output_type": "execute_result"
    }
   ],
   "source": [
    "cash_flows(0.18, [-1800, 540, 540, 540, 540])"
   ]
  },
  {
   "cell_type": "code",
   "execution_count": 55,
   "metadata": {},
   "outputs": [
    {
     "name": "stdout",
     "output_type": "stream",
     "text": [
      "net present worth 365.4082268705055\n"
     ]
    },
    {
     "data": {
      "text/html": "<div>\n<style scoped>\n    .dataframe tbody tr th:only-of-type {\n        vertical-align: middle;\n    }\n\n    .dataframe tbody tr th {\n        vertical-align: top;\n    }\n\n    .dataframe thead th {\n        text-align: right;\n    }\n</style>\n<table border=\"1\" class=\"dataframe\">\n  <thead>\n    <tr style=\"text-align: right;\">\n      <th></th>\n      <th>An</th>\n      <th>interest</th>\n      <th>project balance</th>\n      <th>difference</th>\n    </tr>\n  </thead>\n  <tbody>\n    <tr>\n      <th>0</th>\n      <td>1500</td>\n      <td>0.000000</td>\n      <td>1500.000000</td>\n      <td>1500.000000</td>\n    </tr>\n    <tr>\n      <th>1</th>\n      <td>-430</td>\n      <td>285.000000</td>\n      <td>1355.000000</td>\n      <td>-145.000000</td>\n    </tr>\n    <tr>\n      <th>2</th>\n      <td>-430</td>\n      <td>257.450000</td>\n      <td>1182.450000</td>\n      <td>-172.550000</td>\n    </tr>\n    <tr>\n      <th>3</th>\n      <td>-430</td>\n      <td>224.665500</td>\n      <td>977.115500</td>\n      <td>-205.334500</td>\n    </tr>\n    <tr>\n      <th>4</th>\n      <td>-430</td>\n      <td>185.651945</td>\n      <td>732.767445</td>\n      <td>-244.348055</td>\n    </tr>\n  </tbody>\n</table>\n</div>",
      "text/plain": [
       "     An    interest  project balance   difference\n",
       "0  1500    0.000000      1500.000000  1500.000000\n",
       "1  -430  285.000000      1355.000000  -145.000000\n",
       "2  -430  257.450000      1182.450000  -172.550000\n",
       "3  -430  224.665500       977.115500  -205.334500\n",
       "4  -430  185.651945       732.767445  -244.348055"
      ]
     },
     "execution_count": 55,
     "metadata": {},
     "output_type": "execute_result"
    }
   ],
   "source": [
    "cash_flows(0.19, [1500, -430, -430, -430, -430])"
   ]
  },
  {
   "cell_type": "code",
   "execution_count": 56,
   "metadata": {},
   "outputs": [
    {
     "data": {
      "text/plain": [
       "6"
      ]
     },
     "execution_count": 56,
     "metadata": {},
     "output_type": "execute_result"
    }
   ],
   "source": [
    "#5\n",
    "math.lcm(3, 2)"
   ]
  },
  {
   "cell_type": "code",
   "execution_count": 57,
   "metadata": {},
   "outputs": [
    {
     "data": {
      "text/plain": [
       "7641.669037458503"
      ]
     },
     "execution_count": 57,
     "metadata": {},
     "output_type": "execute_result"
    }
   ],
   "source": [
    "a = equivalent_annual_worth(0.12, [-21500, 17500, 17000, 15000])\n",
    "a"
   ]
  },
  {
   "cell_type": "code",
   "execution_count": 58,
   "metadata": {},
   "outputs": [
    {
     "data": {
      "text/plain": [
       "31418.014044540712"
      ]
     },
     "execution_count": 58,
     "metadata": {},
     "output_type": "execute_result"
    }
   ],
   "source": [
    "eq_present(a, 0.12, 6)"
   ]
  },
  {
   "cell_type": "code",
   "execution_count": 59,
   "metadata": {},
   "outputs": [
    {
     "data": {
      "text/plain": [
       "6400.6037735849"
      ]
     },
     "execution_count": 59,
     "metadata": {},
     "output_type": "execute_result"
    }
   ],
   "source": [
    "b = equivalent_annual_worth(0.12, [-26300, 25500, 18000])\n",
    "b"
   ]
  },
  {
   "cell_type": "code",
   "execution_count": 60,
   "metadata": {},
   "outputs": [
    {
     "data": {
      "text/plain": [
       "26315.48922968161"
      ]
     },
     "execution_count": 60,
     "metadata": {},
     "output_type": "execute_result"
    }
   ],
   "source": [
    "eq_present(b, 0.12, 6)"
   ]
  },
  {
   "cell_type": "code",
   "execution_count": 61,
   "metadata": {},
   "outputs": [
    {
     "data": {
      "text/plain": [
       "15"
      ]
     },
     "execution_count": 61,
     "metadata": {},
     "output_type": "execute_result"
    }
   ],
   "source": [
    "math.lcm(5, 3)"
   ]
  },
  {
   "cell_type": "code",
   "execution_count": 62,
   "metadata": {},
   "outputs": [
    {
     "data": {
      "text/plain": [
       "-45963.38882384052"
      ]
     },
     "execution_count": 62,
     "metadata": {},
     "output_type": "execute_result"
    }
   ],
   "source": [
    "#salvage , add to cash flow at the end\n",
    "a = equivalent_annual_worth(0.09, [-15700, -2000, -2000, -2000, -2000, -2000 + 2000])\n",
    "eq_present(a, 0.09, 15)"
   ]
  },
  {
   "cell_type": "code",
   "execution_count": 63,
   "metadata": {},
   "outputs": [
    {
     "data": {
      "text/plain": [
       "-61597.81136091246"
      ]
     },
     "execution_count": 63,
     "metadata": {},
     "output_type": "execute_result"
    }
   ],
   "source": [
    "a = equivalent_annual_worth(0.09, [-14800, -2100, -2100, -2100 + 1000])\n",
    "eq_present(a, 0.09, 15)"
   ]
  },
  {
   "cell_type": "code",
   "execution_count": 64,
   "metadata": {},
   "outputs": [
    {
     "name": "stdout",
     "output_type": "stream",
     "text": [
      "net present worth 541.9995655040057\n"
     ]
    },
    {
     "data": {
      "text/html": "<div>\n<style scoped>\n    .dataframe tbody tr th:only-of-type {\n        vertical-align: middle;\n    }\n\n    .dataframe tbody tr th {\n        vertical-align: top;\n    }\n\n    .dataframe thead th {\n        text-align: right;\n    }\n</style>\n<table border=\"1\" class=\"dataframe\">\n  <thead>\n    <tr style=\"text-align: right;\">\n      <th></th>\n      <th>An</th>\n      <th>interest</th>\n      <th>project balance</th>\n      <th>difference</th>\n    </tr>\n  </thead>\n  <tbody>\n    <tr>\n      <th>0</th>\n      <td>-2800</td>\n      <td>0.000000</td>\n      <td>-2800.000000</td>\n      <td>-2800.000000</td>\n    </tr>\n    <tr>\n      <th>1</th>\n      <td>650</td>\n      <td>-224.000000</td>\n      <td>-2374.000000</td>\n      <td>426.000000</td>\n    </tr>\n    <tr>\n      <th>2</th>\n      <td>650</td>\n      <td>-189.920000</td>\n      <td>-1913.920000</td>\n      <td>460.080000</td>\n    </tr>\n    <tr>\n      <th>3</th>\n      <td>650</td>\n      <td>-153.113600</td>\n      <td>-1417.033600</td>\n      <td>496.886400</td>\n    </tr>\n    <tr>\n      <th>4</th>\n      <td>650</td>\n      <td>-113.362688</td>\n      <td>-880.396288</td>\n      <td>536.637312</td>\n    </tr>\n    <tr>\n      <th>5</th>\n      <td>650</td>\n      <td>-70.431703</td>\n      <td>-300.827991</td>\n      <td>579.568297</td>\n    </tr>\n    <tr>\n      <th>6</th>\n      <td>650</td>\n      <td>-24.066239</td>\n      <td>325.105770</td>\n      <td>625.933761</td>\n    </tr>\n    <tr>\n      <th>7</th>\n      <td>300</td>\n      <td>26.008462</td>\n      <td>651.114231</td>\n      <td>326.008462</td>\n    </tr>\n    <tr>\n      <th>8</th>\n      <td>300</td>\n      <td>52.089139</td>\n      <td>1003.203370</td>\n      <td>352.089139</td>\n    </tr>\n  </tbody>\n</table>\n</div>",
      "text/plain": [
       "     An    interest  project balance   difference\n",
       "0 -2800    0.000000     -2800.000000 -2800.000000\n",
       "1   650 -224.000000     -2374.000000   426.000000\n",
       "2   650 -189.920000     -1913.920000   460.080000\n",
       "3   650 -153.113600     -1417.033600   496.886400\n",
       "4   650 -113.362688      -880.396288   536.637312\n",
       "5   650  -70.431703      -300.827991   579.568297\n",
       "6   650  -24.066239       325.105770   625.933761\n",
       "7   300   26.008462       651.114231   326.008462\n",
       "8   300   52.089139      1003.203370   352.089139"
      ]
     },
     "execution_count": 64,
     "metadata": {},
     "output_type": "execute_result"
    }
   ],
   "source": [
    "cash_flows(0.08, [-2800, 650, 650, 650, 650, 650, 650, 300, 300])"
   ]
  },
  {
   "cell_type": "code",
   "execution_count": 65,
   "metadata": {},
   "outputs": [
    {
     "name": "stdout",
     "output_type": "stream",
     "text": [
      "net present worth 5541.346180010054\n"
     ]
    },
    {
     "data": {
      "text/html": "<div>\n<style scoped>\n    .dataframe tbody tr th:only-of-type {\n        vertical-align: middle;\n    }\n\n    .dataframe tbody tr th {\n        vertical-align: top;\n    }\n\n    .dataframe thead th {\n        text-align: right;\n    }\n</style>\n<table border=\"1\" class=\"dataframe\">\n  <thead>\n    <tr style=\"text-align: right;\">\n      <th></th>\n      <th>An</th>\n      <th>interest</th>\n      <th>project balance</th>\n      <th>difference</th>\n    </tr>\n  </thead>\n  <tbody>\n    <tr>\n      <th>0</th>\n      <td>-4000</td>\n      <td>0.000000</td>\n      <td>-4000.000000</td>\n      <td>-4000.000000</td>\n    </tr>\n    <tr>\n      <th>1</th>\n      <td>-500</td>\n      <td>-320.000000</td>\n      <td>-4820.000000</td>\n      <td>-820.000000</td>\n    </tr>\n    <tr>\n      <th>2</th>\n      <td>-500</td>\n      <td>-385.600000</td>\n      <td>-5705.600000</td>\n      <td>-885.600000</td>\n    </tr>\n    <tr>\n      <th>3</th>\n      <td>4000</td>\n      <td>-456.448000</td>\n      <td>-2162.048000</td>\n      <td>3543.552000</td>\n    </tr>\n    <tr>\n      <th>4</th>\n      <td>3000</td>\n      <td>-172.963840</td>\n      <td>664.988160</td>\n      <td>2827.036160</td>\n    </tr>\n    <tr>\n      <th>5</th>\n      <td>3000</td>\n      <td>53.199053</td>\n      <td>3718.187213</td>\n      <td>3053.199053</td>\n    </tr>\n    <tr>\n      <th>6</th>\n      <td>2000</td>\n      <td>297.454977</td>\n      <td>6015.642190</td>\n      <td>2297.454977</td>\n    </tr>\n    <tr>\n      <th>7</th>\n      <td>3000</td>\n      <td>481.251375</td>\n      <td>9496.893565</td>\n      <td>3481.251375</td>\n    </tr>\n  </tbody>\n</table>\n</div>",
      "text/plain": [
       "     An    interest  project balance   difference\n",
       "0 -4000    0.000000     -4000.000000 -4000.000000\n",
       "1  -500 -320.000000     -4820.000000  -820.000000\n",
       "2  -500 -385.600000     -5705.600000  -885.600000\n",
       "3  4000 -456.448000     -2162.048000  3543.552000\n",
       "4  3000 -172.963840       664.988160  2827.036160\n",
       "5  3000   53.199053      3718.187213  3053.199053\n",
       "6  2000  297.454977      6015.642190  2297.454977\n",
       "7  3000  481.251375      9496.893565  3481.251375"
      ]
     },
     "execution_count": 65,
     "metadata": {},
     "output_type": "execute_result"
    }
   ],
   "source": [
    "cash_flows(0.08, [-4000, -500, -500, 4000, 3000, 3000, 2000, 3000])"
   ]
  },
  {
   "cell_type": "code",
   "execution_count": 66,
   "metadata": {},
   "outputs": [
    {
     "name": "stdout",
     "output_type": "stream",
     "text": [
      "net present worth -19960.192671310928\n"
     ]
    },
    {
     "data": {
      "text/html": "<div>\n<style scoped>\n    .dataframe tbody tr th:only-of-type {\n        vertical-align: middle;\n    }\n\n    .dataframe tbody tr th {\n        vertical-align: top;\n    }\n\n    .dataframe thead th {\n        text-align: right;\n    }\n</style>\n<table border=\"1\" class=\"dataframe\">\n  <thead>\n    <tr style=\"text-align: right;\">\n      <th></th>\n      <th>An</th>\n      <th>interest</th>\n      <th>project balance</th>\n      <th>difference</th>\n    </tr>\n  </thead>\n  <tbody>\n    <tr>\n      <th>0</th>\n      <td>-8300</td>\n      <td>0.000000</td>\n      <td>-8300.000000</td>\n      <td>-8300.000000</td>\n    </tr>\n    <tr>\n      <th>1</th>\n      <td>-2500</td>\n      <td>-664.000000</td>\n      <td>-11464.000000</td>\n      <td>-3164.000000</td>\n    </tr>\n    <tr>\n      <th>2</th>\n      <td>-2000</td>\n      <td>-917.120000</td>\n      <td>-14381.120000</td>\n      <td>-2917.120000</td>\n    </tr>\n    <tr>\n      <th>3</th>\n      <td>-1500</td>\n      <td>-1150.489600</td>\n      <td>-17031.609600</td>\n      <td>-2650.489600</td>\n    </tr>\n    <tr>\n      <th>4</th>\n      <td>-1500</td>\n      <td>-1362.528768</td>\n      <td>-19894.138368</td>\n      <td>-2862.528768</td>\n    </tr>\n    <tr>\n      <th>5</th>\n      <td>-1500</td>\n      <td>-1591.531069</td>\n      <td>-22985.669437</td>\n      <td>-3091.531069</td>\n    </tr>\n    <tr>\n      <th>6</th>\n      <td>-1500</td>\n      <td>-1838.853555</td>\n      <td>-26324.522992</td>\n      <td>-3338.853555</td>\n    </tr>\n    <tr>\n      <th>7</th>\n      <td>-3000</td>\n      <td>-2105.961839</td>\n      <td>-31430.484832</td>\n      <td>-5105.961839</td>\n    </tr>\n    <tr>\n      <th>8</th>\n      <td>-3000</td>\n      <td>-2514.438787</td>\n      <td>-36944.923618</td>\n      <td>-5514.438787</td>\n    </tr>\n  </tbody>\n</table>\n</div>",
      "text/plain": [
       "     An     interest  project balance   difference\n",
       "0 -8300     0.000000     -8300.000000 -8300.000000\n",
       "1 -2500  -664.000000    -11464.000000 -3164.000000\n",
       "2 -2000  -917.120000    -14381.120000 -2917.120000\n",
       "3 -1500 -1150.489600    -17031.609600 -2650.489600\n",
       "4 -1500 -1362.528768    -19894.138368 -2862.528768\n",
       "5 -1500 -1591.531069    -22985.669437 -3091.531069\n",
       "6 -1500 -1838.853555    -26324.522992 -3338.853555\n",
       "7 -3000 -2105.961839    -31430.484832 -5105.961839\n",
       "8 -3000 -2514.438787    -36944.923618 -5514.438787"
      ]
     },
     "execution_count": 66,
     "metadata": {},
     "output_type": "execute_result"
    }
   ],
   "source": [
    "cash_flows(0.08, [-8300, -2500, -2000, -1500, -1500, -1500, -1500, -3000, -3000])"
   ]
  },
  {
   "cell_type": "code",
   "execution_count": 67,
   "metadata": {},
   "outputs": [
    {
     "name": "stdout",
     "output_type": "stream",
     "text": [
      "net present worth -17433.546771952573\n"
     ]
    },
    {
     "data": {
      "text/html": "<div>\n<style scoped>\n    .dataframe tbody tr th:only-of-type {\n        vertical-align: middle;\n    }\n\n    .dataframe tbody tr th {\n        vertical-align: top;\n    }\n\n    .dataframe thead th {\n        text-align: right;\n    }\n</style>\n<table border=\"1\" class=\"dataframe\">\n  <thead>\n    <tr style=\"text-align: right;\">\n      <th></th>\n      <th>An</th>\n      <th>interest</th>\n      <th>project balance</th>\n      <th>difference</th>\n    </tr>\n  </thead>\n  <tbody>\n    <tr>\n      <th>0</th>\n      <td>-5400</td>\n      <td>0.000000</td>\n      <td>-5400.000000</td>\n      <td>-5400.000000</td>\n    </tr>\n    <tr>\n      <th>1</th>\n      <td>-2000</td>\n      <td>-432.000000</td>\n      <td>-7832.000000</td>\n      <td>-2432.000000</td>\n    </tr>\n    <tr>\n      <th>2</th>\n      <td>-2000</td>\n      <td>-626.560000</td>\n      <td>-10458.560000</td>\n      <td>-2626.560000</td>\n    </tr>\n    <tr>\n      <th>3</th>\n      <td>-2000</td>\n      <td>-836.684800</td>\n      <td>-13295.244800</td>\n      <td>-2836.684800</td>\n    </tr>\n    <tr>\n      <th>4</th>\n      <td>-2000</td>\n      <td>-1063.619584</td>\n      <td>-16358.864384</td>\n      <td>-3063.619584</td>\n    </tr>\n    <tr>\n      <th>5</th>\n      <td>-2000</td>\n      <td>-1308.709151</td>\n      <td>-19667.573535</td>\n      <td>-3308.709151</td>\n    </tr>\n    <tr>\n      <th>6</th>\n      <td>-2000</td>\n      <td>-1573.405883</td>\n      <td>-23240.979417</td>\n      <td>-3573.405883</td>\n    </tr>\n    <tr>\n      <th>7</th>\n      <td>-2000</td>\n      <td>-1859.278353</td>\n      <td>-27100.257771</td>\n      <td>-3859.278353</td>\n    </tr>\n    <tr>\n      <th>8</th>\n      <td>-3000</td>\n      <td>-2168.020622</td>\n      <td>-32268.278393</td>\n      <td>-5168.020622</td>\n    </tr>\n  </tbody>\n</table>\n</div>",
      "text/plain": [
       "     An     interest  project balance   difference\n",
       "0 -5400     0.000000     -5400.000000 -5400.000000\n",
       "1 -2000  -432.000000     -7832.000000 -2432.000000\n",
       "2 -2000  -626.560000    -10458.560000 -2626.560000\n",
       "3 -2000  -836.684800    -13295.244800 -2836.684800\n",
       "4 -2000 -1063.619584    -16358.864384 -3063.619584\n",
       "5 -2000 -1308.709151    -19667.573535 -3308.709151\n",
       "6 -2000 -1573.405883    -23240.979417 -3573.405883\n",
       "7 -2000 -1859.278353    -27100.257771 -3859.278353\n",
       "8 -3000 -2168.020622    -32268.278393 -5168.020622"
      ]
     },
     "execution_count": 67,
     "metadata": {},
     "output_type": "execute_result"
    }
   ],
   "source": [
    "cash_flows(0.08, [-5400, -2000, -2000, -2000, -2000, -2000, -2000, -2000, -3000])"
   ]
  },
  {
   "cell_type": "code",
   "execution_count": 68,
   "metadata": {},
   "outputs": [
    {
     "data": {
      "text/plain": [
       "98.0"
      ]
     },
     "execution_count": 68,
     "metadata": {},
     "output_type": "execute_result"
    }
   ],
   "source": [
    "#9\n",
    "revenue = 400*1000\n",
    "cost_a = 300*1000 + 1500 + 0.5 * 1000\n",
    "profit = revenue - cost_a\n",
    "unit_profit = profit / 1000\n",
    "unit_profit"
   ]
  },
  {
   "cell_type": "code",
   "execution_count": 69,
   "metadata": {},
   "outputs": [
    {
     "data": {
      "text/plain": [
       "(188599.8630301656, 188.5998630301656)"
      ]
     },
     "execution_count": 69,
     "metadata": {},
     "output_type": "execute_result"
    }
   ],
   "source": [
    "cost = 50000+6000+18000+20000 + eq_capital_recovery(415000+9500, 0.15, 8)\n",
    "cost, cost/1000"
   ]
  },
  {
   "cell_type": "code",
   "execution_count": 70,
   "metadata": {},
   "outputs": [
    {
     "data": {
      "text/latex": "$\\displaystyle \\left\\{933.166399152946\\right\\}$",
      "text/plain": [
       "FiniteSet(933.166399152946)"
      ]
     },
     "execution_count": 70,
     "metadata": {},
     "output_type": "execute_result"
    }
   ],
   "source": [
    "X = sym.symbols('X')\n",
    "rev_a = 400 * X\n",
    "cost_a = 300*X + 1500 + 0.5 * X\n",
    "unit_profit_a = (rev_a - cost_a)/X\n",
    "\n",
    "unit_profit_b = 300 - cost/X\n",
    "\n",
    "solve(unit_profit_a - unit_profit_b, X)\n"
   ]
  },
  {
   "cell_type": "code",
   "execution_count": 71,
   "metadata": {},
   "outputs": [
    {
     "data": {
      "text/plain": [
       "(219833.53125666498, 30.11418236392671)"
      ]
     },
     "execution_count": 71,
     "metadata": {},
     "output_type": "execute_result"
    }
   ],
   "source": [
    "#10\n",
    "annual_cost = 50000 + 35000\n",
    "init_cost = 1300000\n",
    "salvage = 60000\n",
    "init_cost -= single_present(salvage, 0.09, 23) # salvage value time shifted\n",
    "annual_cost += eq_capital_recovery(init_cost, 0.09, 23)\n",
    "annual_cost, annual_cost/(20*365)"
   ]
  },
  {
   "cell_type": "code",
   "execution_count": 72,
   "metadata": {},
   "outputs": [
    {
     "data": {
      "text/plain": [
       "(225890.46473450426, 30.943899278699213)"
      ]
     },
     "execution_count": 72,
     "metadata": {},
     "output_type": "execute_result"
    }
   ],
   "source": [
    "annual_cost = 81000+30000\n",
    "init_cost = 750000\n",
    "salvage = 30000\n",
    "init_cost -= single_present(salvage, 0.09, 10) # salvage value time shifted\n",
    "annual_cost += eq_capital_recovery(init_cost, 0.09, 10)\n",
    "annual_cost, annual_cost/(20*365)"
   ]
  },
  {
   "cell_type": "code",
   "execution_count": null,
   "metadata": {},
   "outputs": [],
   "source": []
  }
 ],
 "metadata": {
  "kernelspec": {
   "display_name": "Python 3.9.2 64-bit",
   "metadata": {
    "interpreter": {
     "hash": "4e1d9a8909477db77738c33245c29c7265277ef753467dede8cf3f814cde494e"
    }
   },
   "name": "python3"
  },
  "language_info": {
   "codemirror_mode": {
    "name": "ipython",
    "version": 3
   },
   "file_extension": ".py",
   "mimetype": "text/x-python",
   "name": "python",
   "nbconvert_exporter": "python",
   "pygments_lexer": "ipython3",
   "version": "3.9.2"
  },
  "orig_nbformat": 2
 },
 "nbformat": 4,
 "nbformat_minor": 2
}