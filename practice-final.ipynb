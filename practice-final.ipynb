{
 "cells": [
  {
   "cell_type": "code",
   "execution_count": 2,
   "metadata": {},
   "outputs": [],
   "source": [
    "from util import *\n",
    "from IPython.core.interactiveshell import InteractiveShell\n",
    "\n",
    "InteractiveShell.ast_node_interactivity = \"all\""
   ]
  },
  {
   "cell_type": "code",
   "execution_count": 3,
   "metadata": {},
   "outputs": [
    {
     "data": {
      "text/plain": "4385.543289429532"
     },
     "execution_count": 3,
     "metadata": {},
     "output_type": "execute_result"
    }
   ],
   "source": [
    "# chapter 5\n",
    "#1\n",
    "400/0.1 + (500-400)/0.1 * time_shift(0.1, -10)"
   ]
  },
  {
   "cell_type": "code",
   "execution_count": 4,
   "metadata": {},
   "outputs": [
    {
     "data": {
      "text/plain": "490.5402636431937"
     },
     "execution_count": 4,
     "metadata": {},
     "output_type": "execute_result"
    }
   ],
   "source": [
    "#2\n",
    "x = net_present_worth(0.1, [0, 200, 200, 100, 100])\n",
    "x"
   ]
  },
  {
   "cell_type": "code",
   "execution_count": 5,
   "metadata": {},
   "outputs": [
    {
     "data": {
      "text/plain": "154.75113122171933"
     },
     "execution_count": 5,
     "metadata": {},
     "output_type": "execute_result"
    }
   ],
   "source": [
    "A = eq_capital_recovery(x, 0.1, 4)\n",
    "A"
   ]
  },
  {
   "cell_type": "code",
   "execution_count": 6,
   "metadata": {},
   "outputs": [
    {
     "data": {
      "text/plain": "1547.5113122171933"
     },
     "execution_count": 6,
     "metadata": {},
     "output_type": "execute_result"
    }
   ],
   "source": [
    "A/0.1\n"
   ]
  },
  {
   "cell_type": "code",
   "execution_count": 7,
   "metadata": {},
   "outputs": [
    {
     "data": {
      "text/latex": "$\\displaystyle \\left\\{6.55608183674626\\right\\}$",
      "text/plain": "FiniteSet(6.55608183674626)"
     },
     "execution_count": 7,
     "metadata": {},
     "output_type": "execute_result"
    }
   ],
   "source": [
    "#3\n",
    "n = sym.symbols('n')\n",
    "eq = 20000 - eq_present(5000, 0.15, n)\n",
    "solve(eq, n)"
   ]
  },
  {
   "cell_type": "code",
   "execution_count": 8,
   "metadata": {},
   "outputs": [
    {
     "data": {
      "text/plain": "174745.75175922638"
     },
     "execution_count": 8,
     "metadata": {},
     "output_type": "execute_result"
    }
   ],
   "source": [
    "#4 \n",
    "\n",
    "# up to year 9\n",
    "part1 = net_present_worth(0.1, [0, 10000, 15000, 20000, 25000, 30000, 35000, 40000, 45000, 50000, 52000])\n",
    "part1"
   ]
  },
  {
   "cell_type": "code",
   "execution_count": 9,
   "metadata": {},
   "outputs": [],
   "source": [
    "# year 10 to infinity\n",
    "part2 = 52000/0.1 * time_shift(0.1, -10)"
   ]
  },
  {
   "cell_type": "code",
   "execution_count": 10,
   "metadata": {},
   "outputs": [],
   "source": [
    "#40000 happens every 10 years\n",
    "# we pay 40000 in year 10 so time shift backwards 10 years to find value in year0\n",
    "overhaul = eq_capital_recovery(40000 * time_shift(0.1, -10), 0.1, 10)\n",
    "overhaul = overhaul / 0.1"
   ]
  },
  {
   "cell_type": "code",
   "execution_count": 11,
   "metadata": {},
   "outputs": [
    {
     "data": {
      "text/plain": "250130.10430957814"
     },
     "execution_count": 11,
     "metadata": {},
     "output_type": "execute_result"
    }
   ],
   "source": [
    "part1 + part2 - overhaul - 100000"
   ]
  },
  {
   "cell_type": "code",
   "execution_count": 12,
   "metadata": {},
   "outputs": [
    {
     "data": {
      "text/plain": "438.55432894295313"
     },
     "execution_count": 12,
     "metadata": {},
     "output_type": "execute_result"
    }
   ],
   "source": [
    "#5\n",
    "400 + 100 * time_shift(0.1, -10)"
   ]
  },
  {
   "cell_type": "code",
   "execution_count": 13,
   "metadata": {},
   "outputs": [
    {
     "data": {
      "text/plain": "-35973.669554962216"
     },
     "execution_count": 13,
     "metadata": {},
     "output_type": "execute_result"
    }
   ],
   "source": [
    "#6\n",
    "equivalent_annual_worth(0.1, [-55000, -18000, -21000, -24000, -27000, -30000 + 12000])"
   ]
  },
  {
   "cell_type": "code",
   "execution_count": 14,
   "metadata": {},
   "outputs": [
    {
     "data": {
      "text/plain": "-3438.7809377637727"
     },
     "execution_count": 14,
     "metadata": {},
     "output_type": "execute_result"
    }
   ],
   "source": [
    "#7\n",
    "equivalent_annual_worth(0.15, [-18000, 0, 0, 0, 0, 0, 0, 0, 0, 0, 3000])"
   ]
  },
  {
   "cell_type": "code",
   "execution_count": 15,
   "metadata": {},
   "outputs": [
    {
     "data": {
      "text/plain": "3438.7809377637727"
     },
     "execution_count": 15,
     "metadata": {},
     "output_type": "execute_result"
    }
   ],
   "source": [
    "#alternative way for #7\n",
    "capital_recovery_cost(18000, 0.15, 10, 3000)"
   ]
  },
  {
   "cell_type": "code",
   "execution_count": 16,
   "metadata": {},
   "outputs": [
    {
     "data": {
      "text/plain": "8520.737928322109"
     },
     "execution_count": 16,
     "metadata": {},
     "output_type": "execute_result"
    }
   ],
   "source": [
    "#8\n",
    "p = -100000 + geo_present(30000, 0.03, 0.14, 5)\n",
    "p"
   ]
  },
  {
   "cell_type": "code",
   "execution_count": 17,
   "metadata": {},
   "outputs": [
    {
     "data": {
      "text/plain": "0.8273169208274697"
     },
     "execution_count": 17,
     "metadata": {},
     "output_type": "execute_result"
    }
   ],
   "source": [
    "ae = eq_capital_recovery(p, 0.14, 5)\n",
    "ae / 3000"
   ]
  },
  {
   "cell_type": "code",
   "execution_count": 18,
   "metadata": {},
   "outputs": [
    {
     "data": {
      "text/plain": "14371.275761601128"
     },
     "execution_count": 18,
     "metadata": {},
     "output_type": "execute_result"
    }
   ],
   "source": [
    "#9\n",
    "capital_recovery_cost(50000, 0.08, 12, 5000) + 8000"
   ]
  },
  {
   "cell_type": "code",
   "execution_count": 19,
   "metadata": {},
   "outputs": [
    {
     "data": {
      "text/plain": "14371.275761601122"
     },
     "execution_count": 19,
     "metadata": {},
     "output_type": "execute_result"
    }
   ],
   "source": [
    "#alternatively\n",
    "equivalent_annual_worth(0.08, [50000, 8000, 8000, 8000, 8000, 8000, 8000, 8000, 8000, 8000, 8000, 8000, 8000 - 5000])"
   ]
  },
  {
   "cell_type": "code",
   "execution_count": 20,
   "metadata": {},
   "outputs": [
    {
     "data": {
      "text/plain": "0.5"
     },
     "execution_count": 20,
     "metadata": {},
     "output_type": "execute_result"
    }
   ],
   "source": [
    "#10\n",
    "rate_of_return([-100, 0, 0, 337.5])"
   ]
  },
  {
   "cell_type": "code",
   "execution_count": 21,
   "metadata": {},
   "outputs": [
    {
     "data": {
      "text/plain": "0.38613842324034886"
     },
     "execution_count": 21,
     "metadata": {},
     "output_type": "execute_result"
    }
   ],
   "source": [
    "#11\n",
    "rate_of_return([-1600, 1500, 1500, -700])"
   ]
  },
  {
   "cell_type": "code",
   "execution_count": 22,
   "metadata": {},
   "outputs": [
    {
     "data": {
      "text/plain": "0.19406171162429653"
     },
     "execution_count": 22,
     "metadata": {},
     "output_type": "execute_result"
    }
   ],
   "source": [
    "#12\n",
    "# CE = A/i => i = A/CE\n",
    "3000/15459"
   ]
  },
  {
   "cell_type": "code",
   "execution_count": 23,
   "metadata": {},
   "outputs": [
    {
     "data": {
      "text/plain": "400000.0"
     },
     "execution_count": 23,
     "metadata": {},
     "output_type": "execute_result"
    }
   ],
   "source": [
    "#13\n",
    "60000/0.15"
   ]
  },
  {
   "cell_type": "code",
   "execution_count": 24,
   "metadata": {},
   "outputs": [
    {
     "data": {
      "text/plain": "301126.11755125364"
     },
     "execution_count": 24,
     "metadata": {},
     "output_type": "execute_result"
    }
   ],
   "source": [
    "#14\n",
    "eq_present(60000, 0.15, 10)"
   ]
  },
  {
   "cell_type": "code",
   "execution_count": 25,
   "metadata": {},
   "outputs": [
    {
     "name": "stdout",
     "output_type": "stream",
     "text": [
      "-2.220446049250313e-16\n",
      "0.37800808614207093\n",
      "0.10008524246815442\n",
      "0.13434365868691533\n"
     ]
    }
   ],
   "source": [
    "#15\n",
    "xs = [425, 1045, 580, 635]\n",
    "for x in xs:\n",
    "    print(rate_of_return([-1500, x, 650, x]))"
   ]
  },
  {
   "cell_type": "code",
   "execution_count": 26,
   "metadata": {},
   "outputs": [
    {
     "name": "stdout",
     "output_type": "stream",
     "text": [
      "rate of return is 0.09999999999999987\n",
      "net present worth 3.197442310920451e-14\n",
      "equivalent annual worth 1.0086996956299571e-14\n"
     ]
    },
    {
     "data": {
      "text/html": "<div>\n<style scoped>\n    .dataframe tbody tr th:only-of-type {\n        vertical-align: middle;\n    }\n\n    .dataframe tbody tr th {\n        vertical-align: top;\n    }\n\n    .dataframe thead th {\n        text-align: right;\n    }\n</style>\n<table border=\"1\" class=\"dataframe\">\n  <thead>\n    <tr style=\"text-align: right;\">\n      <th></th>\n      <th>An</th>\n      <th>interest</th>\n      <th>project balance</th>\n      <th>difference</th>\n    </tr>\n  </thead>\n  <tbody>\n    <tr>\n      <th>0</th>\n      <td>-100</td>\n      <td>0.0</td>\n      <td>-1.000000e+02</td>\n      <td>-100.0</td>\n    </tr>\n    <tr>\n      <th>1</th>\n      <td>20</td>\n      <td>-10.0</td>\n      <td>-9.000000e+01</td>\n      <td>10.0</td>\n    </tr>\n    <tr>\n      <th>2</th>\n      <td>49</td>\n      <td>-9.0</td>\n      <td>-5.000000e+01</td>\n      <td>40.0</td>\n    </tr>\n    <tr>\n      <th>3</th>\n      <td>25</td>\n      <td>-5.0</td>\n      <td>-3.000000e+01</td>\n      <td>20.0</td>\n    </tr>\n    <tr>\n      <th>4</th>\n      <td>33</td>\n      <td>-3.0</td>\n      <td>4.707346e-14</td>\n      <td>30.0</td>\n    </tr>\n  </tbody>\n</table>\n</div>",
      "text/plain": "    An  interest  project balance  difference\n0 -100       0.0    -1.000000e+02      -100.0\n1   20     -10.0    -9.000000e+01        10.0\n2   49      -9.0    -5.000000e+01        40.0\n3   25      -5.0    -3.000000e+01        20.0\n4   33      -3.0     4.707346e-14        30.0"
     },
     "execution_count": 26,
     "metadata": {},
     "output_type": "execute_result"
    }
   ],
   "source": [
    "#16\n",
    "cash_flows(None, [-100, 20, 49, 25, 33])"
   ]
  },
  {
   "cell_type": "code",
   "execution_count": 27,
   "metadata": {},
   "outputs": [
    {
     "name": "stdout",
     "output_type": "stream",
     "text": [
      "rate of return is 0.25\n",
      "net present worth 0.0\n",
      "equivalent annual worth 0.0\n"
     ]
    },
    {
     "data": {
      "text/html": "<div>\n<style scoped>\n    .dataframe tbody tr th:only-of-type {\n        vertical-align: middle;\n    }\n\n    .dataframe tbody tr th {\n        vertical-align: top;\n    }\n\n    .dataframe thead th {\n        text-align: right;\n    }\n</style>\n<table border=\"1\" class=\"dataframe\">\n  <thead>\n    <tr style=\"text-align: right;\">\n      <th></th>\n      <th>An</th>\n      <th>interest</th>\n      <th>project balance</th>\n      <th>difference</th>\n    </tr>\n  </thead>\n  <tbody>\n    <tr>\n      <th>0</th>\n      <td>-3200</td>\n      <td>0.0</td>\n      <td>-3200.0</td>\n      <td>-3200.0</td>\n    </tr>\n    <tr>\n      <th>1</th>\n      <td>20000</td>\n      <td>-800.0</td>\n      <td>16000.0</td>\n      <td>19200.0</td>\n    </tr>\n    <tr>\n      <th>2</th>\n      <td>-20000</td>\n      <td>4000.0</td>\n      <td>0.0</td>\n      <td>-16000.0</td>\n    </tr>\n  </tbody>\n</table>\n</div>",
      "text/plain": "      An  interest  project balance  difference\n0  -3200       0.0          -3200.0     -3200.0\n1  20000    -800.0          16000.0     19200.0\n2 -20000    4000.0              0.0    -16000.0"
     },
     "execution_count": 27,
     "metadata": {},
     "output_type": "execute_result"
    }
   ],
   "source": [
    "#17\n",
    "cash_flows(None, [-3200, 20000, -20000])"
   ]
  },
  {
   "cell_type": "code",
   "execution_count": 28,
   "metadata": {},
   "outputs": [
    {
     "name": "stdout",
     "output_type": "stream",
     "text": [
      "net present worth 350.295857988167\n",
      "equivalent annual worth 257.391304347827\n"
     ]
    },
    {
     "data": {
      "text/html": "<div>\n<style scoped>\n    .dataframe tbody tr th:only-of-type {\n        vertical-align: middle;\n    }\n\n    .dataframe tbody tr th {\n        vertical-align: top;\n    }\n\n    .dataframe thead th {\n        text-align: right;\n    }\n</style>\n<table border=\"1\" class=\"dataframe\">\n  <thead>\n    <tr style=\"text-align: right;\">\n      <th></th>\n      <th>An</th>\n      <th>interest</th>\n      <th>project balance</th>\n      <th>difference</th>\n    </tr>\n  </thead>\n  <tbody>\n    <tr>\n      <th>0</th>\n      <td>-3200</td>\n      <td>0.0</td>\n      <td>-3200.0</td>\n      <td>-3200.0</td>\n    </tr>\n    <tr>\n      <th>1</th>\n      <td>20000</td>\n      <td>-960.0</td>\n      <td>15840.0</td>\n      <td>19040.0</td>\n    </tr>\n    <tr>\n      <th>2</th>\n      <td>-20000</td>\n      <td>4752.0</td>\n      <td>592.0</td>\n      <td>-15248.0</td>\n    </tr>\n  </tbody>\n</table>\n</div>",
      "text/plain": "      An  interest  project balance  difference\n0  -3200       0.0          -3200.0     -3200.0\n1  20000    -960.0          15840.0     19040.0\n2 -20000    4752.0            592.0    -15248.0"
     },
     "execution_count": 28,
     "metadata": {},
     "output_type": "execute_result"
    }
   ],
   "source": [
    "cash_flows(0.3, [-3200, 20000, -20000])"
   ]
  },
  {
   "cell_type": "code",
   "execution_count": 29,
   "metadata": {},
   "outputs": [
    {
     "name": "stdout",
     "output_type": "stream",
     "text": [
      "rate of return is 1.8181738043354656e-05\n",
      "net present worth -4.001776687800884e-11\n",
      "equivalent annual worth -1.3339740690672377e-11\n",
      "      An  interest  project balance    difference\n",
      "0 -50000  0.000000    -5.000000e+04 -50000.000000\n",
      "1  13334 -0.909087    -3.666691e+04  13333.090913\n",
      "2  13334 -0.666668    -2.333358e+04  13333.333332\n",
      "3  23334 -0.424245    -3.688100e-11  23333.575755\n",
      "rate of return is 0.22284104357753165\n",
      "net present worth 3.637978807091713e-12\n",
      "equivalent annual worth 1.7891206484113977e-12\n",
      "      An      interest  project balance    difference\n",
      "0 -50000      0.000000    -5.000000e+04 -50000.000000\n",
      "1  21900 -11142.052179    -3.924205e+04  10757.947821\n",
      "2  21900  -8744.739860    -2.608679e+04  13155.260140\n",
      "3  31900  -5813.207961     3.637979e-12  26086.792039\n",
      "rate of return is 0.11133780719555264\n",
      "net present worth -3.637978807091713e-11\n",
      "equivalent annual worth -1.492173571754801e-11\n",
      "      An     interest  project balance    difference\n",
      "0 -50000     0.000000    -5.000000e+04 -50000.000000\n",
      "1  17520 -5566.890360    -3.804689e+04  11953.109640\n",
      "2  17520 -4236.057343    -2.476295e+04  13283.942657\n",
      "3  27520 -2757.052297    -4.774847e-11  24762.947703\n",
      "rate of return is 0.15002359662368714\n",
      "net present worth -7.275957614183426e-12\n",
      "equivalent annual worth -3.186826513003895e-12\n",
      "      An     interest  project balance    difference\n",
      "0 -50000     0.000000    -5.000000e+04 -50000.000000\n",
      "1  19020 -7501.179831    -3.848118e+04  11518.820169\n",
      "2  19020 -5773.085001    -2.523426e+04  13246.914999\n",
      "3  29020 -3785.735168    -1.136868e-11  25234.264832\n"
     ]
    }
   ],
   "source": [
    "#18\n",
    "xs = [13334, 21900, 17520, 19020]\n",
    "\n",
    "for x in xs:\n",
    "    print(cash_flows(None, [-50000, x, x, x+10000]))"
   ]
  },
  {
   "cell_type": "code",
   "execution_count": 30,
   "metadata": {},
   "outputs": [],
   "source": [
    "#chapter 6\n",
    "#1"
   ]
  },
  {
   "cell_type": "code",
   "execution_count": 31,
   "metadata": {},
   "outputs": [
    {
     "data": {
      "text/plain": "-1299.8685003414694"
     },
     "execution_count": 31,
     "metadata": {},
     "output_type": "execute_result"
    }
   ],
   "source": [
    "#2\n",
    "a = equivalent_annual_worth(0.12, [-20000, 15000, 12000, 12000, 9000])\n",
    "b = equivalent_annual_worth(0.12, [-23000, 17000, 15000, 15000, 10000])\n",
    "a - b"
   ]
  },
  {
   "cell_type": "code",
   "execution_count": 32,
   "metadata": {},
   "outputs": [
    {
     "data": {
      "text/plain": "639.1307266870995"
     },
     "execution_count": 32,
     "metadata": {},
     "output_type": "execute_result"
    }
   ],
   "source": [
    "#3\n",
    "equivalent_annual_worth(0.1, [0] + [500] * 10 + [1000]*10)"
   ]
  },
  {
   "cell_type": "code",
   "execution_count": 33,
   "metadata": {},
   "outputs": [
    {
     "data": {
      "text/plain": "1784.4603343092756"
     },
     "execution_count": 33,
     "metadata": {},
     "output_type": "execute_result"
    }
   ],
   "source": [
    "#4\n",
    "equivalent_annual_worth(0.1, [0, 0, 2000, 0, 4000, 0, 6000])"
   ]
  },
  {
   "cell_type": "code",
   "execution_count": 34,
   "metadata": {},
   "outputs": [
    {
     "data": {
      "text/plain": "813.7269744125576"
     },
     "execution_count": 34,
     "metadata": {},
     "output_type": "execute_result"
    }
   ],
   "source": [
    "#5\n",
    "a= capital_recovery_cost(5000, 0.1, 10, 0)\n",
    "a"
   ]
  },
  {
   "cell_type": "code",
   "execution_count": 35,
   "metadata": {},
   "outputs": [
    {
     "data": {
      "text/plain": "790.5734549802619"
     },
     "execution_count": 35,
     "metadata": {},
     "output_type": "execute_result"
    }
   ],
   "source": [
    "b = capital_recovery_cost(3000, 0.1, 5, 5)\n",
    "b"
   ]
  },
  {
   "cell_type": "code",
   "execution_count": 36,
   "metadata": {},
   "outputs": [
    {
     "data": {
      "text/plain": "23.153519432295752"
     },
     "execution_count": 36,
     "metadata": {},
     "output_type": "execute_result"
    }
   ],
   "source": [
    "a-b"
   ]
  },
  {
   "cell_type": "code",
   "execution_count": 37,
   "metadata": {},
   "outputs": [
    {
     "data": {
      "text/plain": "-1818.3764577259476"
     },
     "execution_count": 37,
     "metadata": {},
     "output_type": "execute_result"
    }
   ],
   "source": [
    "#6\n",
    "a = net_present_worth(0.12,  [-1000, -400, -400, 200-400])\n",
    "a"
   ]
  },
  {
   "cell_type": "code",
   "execution_count": 38,
   "metadata": {},
   "outputs": [
    {
     "data": {
      "text/plain": "-1138.0102040816325"
     },
     "execution_count": 38,
     "metadata": {},
     "output_type": "execute_result"
    }
   ],
   "source": [
    "b = net_present_worth(0.12, [-800, -200, -200])\n",
    "b"
   ]
  },
  {
   "cell_type": "code",
   "execution_count": 39,
   "metadata": {},
   "outputs": [],
   "source": [
    "a = a + a * time_shift(0.12, -3)"
   ]
  },
  {
   "cell_type": "code",
   "execution_count": 40,
   "metadata": {},
   "outputs": [],
   "source": [
    "b = b + b * time_shift(0.12, -2) + b * time_shift(0.12, -4)"
   ]
  },
  {
   "cell_type": "code",
   "execution_count": 41,
   "metadata": {},
   "outputs": [
    {
     "data": {
      "text/plain": "-344.2098739550488"
     },
     "execution_count": 41,
     "metadata": {},
     "output_type": "execute_result"
    }
   ],
   "source": [
    "a - b"
   ]
  },
  {
   "cell_type": "code",
   "execution_count": 42,
   "metadata": {},
   "outputs": [
    {
     "data": {
      "text/plain": "0.125"
     },
     "execution_count": 42,
     "metadata": {},
     "output_type": "execute_result"
    }
   ],
   "source": [
    "#7\n",
    "p1 = [-1200, 600, 1000]\n",
    "p2 = [-2000, 1500, 1000]\n",
    "diff = np.subtract(p1, p2)\n",
    "rate_of_return(diff)"
   ]
  },
  {
   "cell_type": "code",
   "execution_count": 43,
   "metadata": {},
   "outputs": [
    {
     "name": "stdout",
     "output_type": "stream",
     "text": [
      "[-2000     0     0  3906]\n"
     ]
    },
    {
     "data": {
      "text/plain": "0.24997333276442424"
     },
     "execution_count": 43,
     "metadata": {},
     "output_type": "execute_result"
    }
   ],
   "source": [
    "#9\n",
    "a = [-3000, 1350, 1800, 1500]\n",
    "b = [-5000, 1350, 1800, 5406]\n",
    "diff = np.subtract(b,a)\n",
    "print(diff)\n",
    "rate_of_return(diff)"
   ]
  },
  {
   "cell_type": "code",
   "execution_count": 44,
   "metadata": {},
   "outputs": [
    {
     "name": "stdout",
     "output_type": "stream",
     "text": [
      "net present worth 0.0\n",
      "equivalent annual worth 0.0\n"
     ]
    },
    {
     "data": {
      "text/html": "<div>\n<style scoped>\n    .dataframe tbody tr th:only-of-type {\n        vertical-align: middle;\n    }\n\n    .dataframe tbody tr th {\n        vertical-align: top;\n    }\n\n    .dataframe thead th {\n        text-align: right;\n    }\n</style>\n<table border=\"1\" class=\"dataframe\">\n  <thead>\n    <tr style=\"text-align: right;\">\n      <th></th>\n      <th>An</th>\n      <th>interest</th>\n      <th>project balance</th>\n      <th>difference</th>\n    </tr>\n  </thead>\n  <tbody>\n    <tr>\n      <th>0</th>\n      <td>-3000</td>\n      <td>0.0</td>\n      <td>-3000.0</td>\n      <td>-3000.0</td>\n    </tr>\n    <tr>\n      <th>1</th>\n      <td>1350</td>\n      <td>-750.0</td>\n      <td>-2400.0</td>\n      <td>600.0</td>\n    </tr>\n    <tr>\n      <th>2</th>\n      <td>1800</td>\n      <td>-600.0</td>\n      <td>-1200.0</td>\n      <td>1200.0</td>\n    </tr>\n    <tr>\n      <th>3</th>\n      <td>1500</td>\n      <td>-300.0</td>\n      <td>0.0</td>\n      <td>1200.0</td>\n    </tr>\n  </tbody>\n</table>\n</div>",
      "text/plain": "     An  interest  project balance  difference\n0 -3000       0.0          -3000.0     -3000.0\n1  1350    -750.0          -2400.0       600.0\n2  1800    -600.0          -1200.0      1200.0\n3  1500    -300.0              0.0      1200.0"
     },
     "execution_count": 44,
     "metadata": {},
     "output_type": "execute_result"
    }
   ],
   "source": [
    "cash_flows(0.25, [-3000, 1350, 1800, 1500])"
   ]
  },
  {
   "cell_type": "code",
   "execution_count": 45,
   "metadata": {},
   "outputs": [
    {
     "name": "stdout",
     "output_type": "stream",
     "text": [
      "net present worth -0.12800000000015643\n",
      "equivalent annual worth -0.06557377049188341\n"
     ]
    },
    {
     "data": {
      "text/html": "<div>\n<style scoped>\n    .dataframe tbody tr th:only-of-type {\n        vertical-align: middle;\n    }\n\n    .dataframe tbody tr th {\n        vertical-align: top;\n    }\n\n    .dataframe thead th {\n        text-align: right;\n    }\n</style>\n<table border=\"1\" class=\"dataframe\">\n  <thead>\n    <tr style=\"text-align: right;\">\n      <th></th>\n      <th>An</th>\n      <th>interest</th>\n      <th>project balance</th>\n      <th>difference</th>\n    </tr>\n  </thead>\n  <tbody>\n    <tr>\n      <th>0</th>\n      <td>-5000</td>\n      <td>0.00</td>\n      <td>-5000.00</td>\n      <td>-5000.00</td>\n    </tr>\n    <tr>\n      <th>1</th>\n      <td>1350</td>\n      <td>-1250.00</td>\n      <td>-4900.00</td>\n      <td>100.00</td>\n    </tr>\n    <tr>\n      <th>2</th>\n      <td>1800</td>\n      <td>-1225.00</td>\n      <td>-4325.00</td>\n      <td>575.00</td>\n    </tr>\n    <tr>\n      <th>3</th>\n      <td>5406</td>\n      <td>-1081.25</td>\n      <td>-0.25</td>\n      <td>4324.75</td>\n    </tr>\n  </tbody>\n</table>\n</div>",
      "text/plain": "     An  interest  project balance  difference\n0 -5000      0.00         -5000.00    -5000.00\n1  1350  -1250.00         -4900.00      100.00\n2  1800  -1225.00         -4325.00      575.00\n3  5406  -1081.25            -0.25     4324.75"
     },
     "execution_count": 45,
     "metadata": {},
     "output_type": "execute_result"
    }
   ],
   "source": [
    "cash_flows(0.25, [-5000, 1350, 1800, 5406])"
   ]
  },
  {
   "cell_type": "code",
   "execution_count": 46,
   "metadata": {},
   "outputs": [
    {
     "name": "stdout",
     "output_type": "stream",
     "text": [
      "NOTE: if the book value is below the salvage value, it should instead be the salvage value. This also affects the depreciation amount\n"
     ]
    },
    {
     "data": {
      "image/png": "[encoded data removed]",
      "text/plain": "<Figure size 432x288 with 1 Axes>"
     },
     "metadata": {
      "needs_background": "light"
     },
     "output_type": "display_data"
    },
    {
     "data": {
      "text/html": "<div>\n<style scoped>\n    .dataframe tbody tr th:only-of-type {\n        vertical-align: middle;\n    }\n\n    .dataframe tbody tr th {\n        vertical-align: top;\n    }\n\n    .dataframe thead th {\n        text-align: right;\n    }\n</style>\n<table border=\"1\" class=\"dataframe\">\n  <thead>\n    <tr style=\"text-align: right;\">\n      <th></th>\n      <th>Book value Straightline</th>\n      <th>Book value DDB</th>\n      <th>Declines Straightline</th>\n      <th>Declines Double Declining</th>\n    </tr>\n  </thead>\n  <tbody>\n    <tr>\n      <th>0</th>\n      <td>45000.0</td>\n      <td>45000.0</td>\n      <td>0.0</td>\n      <td>0.0</td>\n    </tr>\n    <tr>\n      <th>1</th>\n      <td>35000.0</td>\n      <td>22500.0</td>\n      <td>10000.0</td>\n      <td>22500.0</td>\n    </tr>\n    <tr>\n      <th>2</th>\n      <td>25000.0</td>\n      <td>11250.0</td>\n      <td>10000.0</td>\n      <td>11250.0</td>\n    </tr>\n    <tr>\n      <th>3</th>\n      <td>15000.0</td>\n      <td>5625.0</td>\n      <td>10000.0</td>\n      <td>5625.0</td>\n    </tr>\n    <tr>\n      <th>4</th>\n      <td>5000.0</td>\n      <td>2812.5</td>\n      <td>10000.0</td>\n      <td>2812.5</td>\n    </tr>\n  </tbody>\n</table>\n</div>",
      "text/plain": "   Book value Straightline  Book value DDB  Declines Straightline  \\\n0                  45000.0         45000.0                    0.0   \n1                  35000.0         22500.0                10000.0   \n2                  25000.0         11250.0                10000.0   \n3                  15000.0          5625.0                10000.0   \n4                   5000.0          2812.5                10000.0   \n\n   Declines Double Declining  \n0                        0.0  \n1                    22500.0  \n2                    11250.0  \n3                     5625.0  \n4                     2812.5  "
     },
     "execution_count": 46,
     "metadata": {},
     "output_type": "execute_result"
    }
   ],
   "source": [
    "# chapter 8\n",
    "#1\n",
    "#2\n",
    "depreciation(45000, 5000, 4)"
   ]
  },
  {
   "cell_type": "code",
   "execution_count": 47,
   "metadata": {},
   "outputs": [
    {
     "name": "stdout",
     "output_type": "stream",
     "text": [
      "NOTE: if the book value is below the salvage value, it should instead be the salvage value. This also affects the depreciation amount\n"
     ]
    },
    {
     "data": {
      "image/png": "[encoded data removed]",
      "text/plain": "<Figure size 432x288 with 1 Axes>"
     },
     "metadata": {
      "needs_background": "light"
     },
     "output_type": "display_data"
    },
    {
     "data": {
      "text/html": "<div>\n<style scoped>\n    .dataframe tbody tr th:only-of-type {\n        vertical-align: middle;\n    }\n\n    .dataframe tbody tr th {\n        vertical-align: top;\n    }\n\n    .dataframe thead th {\n        text-align: right;\n    }\n</style>\n<table border=\"1\" class=\"dataframe\">\n  <thead>\n    <tr style=\"text-align: right;\">\n      <th></th>\n      <th>Book value Straightline</th>\n      <th>Book value DDB</th>\n      <th>Declines Straightline</th>\n      <th>Declines Double Declining</th>\n    </tr>\n  </thead>\n  <tbody>\n    <tr>\n      <th>0</th>\n      <td>45000.0</td>\n      <td>45000.0</td>\n      <td>0.0</td>\n      <td>0.0</td>\n    </tr>\n    <tr>\n      <th>1</th>\n      <td>36250.0</td>\n      <td>22500.0</td>\n      <td>8750.0</td>\n      <td>22500.0</td>\n    </tr>\n    <tr>\n      <th>2</th>\n      <td>27500.0</td>\n      <td>11250.0</td>\n      <td>8750.0</td>\n      <td>11250.0</td>\n    </tr>\n    <tr>\n      <th>3</th>\n      <td>18750.0</td>\n      <td>5625.0</td>\n      <td>8750.0</td>\n      <td>5625.0</td>\n    </tr>\n    <tr>\n      <th>4</th>\n      <td>10000.0</td>\n      <td>2812.5</td>\n      <td>8750.0</td>\n      <td>2812.5</td>\n    </tr>\n  </tbody>\n</table>\n</div>",
      "text/plain": "   Book value Straightline  Book value DDB  Declines Straightline  \\\n0                  45000.0         45000.0                    0.0   \n1                  36250.0         22500.0                 8750.0   \n2                  27500.0         11250.0                 8750.0   \n3                  18750.0          5625.0                 8750.0   \n4                  10000.0          2812.5                 8750.0   \n\n   Declines Double Declining  \n0                        0.0  \n1                    22500.0  \n2                    11250.0  \n3                     5625.0  \n4                     2812.5  "
     },
     "execution_count": 47,
     "metadata": {},
     "output_type": "execute_result"
    }
   ],
   "source": [
    "#3\n",
    "depreciation(45000, 10000, 4)\n"
   ]
  },
  {
   "cell_type": "code",
   "execution_count": 48,
   "metadata": {},
   "outputs": [
    {
     "data": {
      "text/plain": "0.09"
     },
     "execution_count": 48,
     "metadata": {},
     "output_type": "execute_result"
    }
   ],
   "source": [
    "#4\n",
    "depreciation_units_of_production_rate(20000, 2000, 200000)"
   ]
  },
  {
   "cell_type": "code",
   "execution_count": null,
   "metadata": {},
   "outputs": [],
   "source": []
  }
 ],
 "metadata": {
  "kernelspec": {
   "display_name": "Python 3.9.3 64-bit",
   "name": "python393jvsc74a57bd0767d51c1340bd893661ea55ea3124f6de3c7a262a8b4abca0554b478b1e2ff90"
  },
  "language_info": {
   "codemirror_mode": {
    "name": "ipython",
    "version": 3
   },
   "file_extension": ".py",
   "mimetype": "text/x-python",
   "name": "python",
   "nbconvert_exporter": "python",
   "pygments_lexer": "ipython3",
   "version": "3.9.3"
  },
  "orig_nbformat": 2
 },
 "nbformat": 4,
 "nbformat_minor": 2
}