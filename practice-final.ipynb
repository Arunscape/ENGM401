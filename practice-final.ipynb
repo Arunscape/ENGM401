{
 "metadata": {
  "language_info": {
   "codemirror_mode": {
    "name": "ipython",
    "version": 3
   },
   "file_extension": ".py",
   "mimetype": "text/x-python",
   "name": "python",
   "nbconvert_exporter": "python",
   "pygments_lexer": "ipython3",
   "version": "3.9.3"
  },
  "orig_nbformat": 2,
  "kernelspec": {
   "name": "python393jvsc74a57bd0767d51c1340bd893661ea55ea3124f6de3c7a262a8b4abca0554b478b1e2ff90",
   "display_name": "Python 3.9.3 64-bit"
  }
 },
 "nbformat": 4,
 "nbformat_minor": 2,
 "cells": [
  {
   "cell_type": "code",
   "execution_count": 1,
   "metadata": {},
   "outputs": [],
   "source": [
    "from util import *"
   ]
  },
  {
   "cell_type": "code",
   "execution_count": 2,
   "metadata": {},
   "outputs": [
    {
     "output_type": "execute_result",
     "data": {
      "text/plain": [
       "4385.543289429532"
      ]
     },
     "metadata": {},
     "execution_count": 2
    }
   ],
   "source": [
    "# chapter 5\n",
    "#1\n",
    "400/0.1 + (500-400)/0.1 * time_shift(0.1, -10)"
   ]
  },
  {
   "cell_type": "code",
   "execution_count": 3,
   "metadata": {},
   "outputs": [
    {
     "output_type": "execute_result",
     "data": {
      "text/plain": [
       "490.5402636431937"
      ]
     },
     "metadata": {},
     "execution_count": 3
    }
   ],
   "source": [
    "#2\n",
    "x = net_present_worth(0.1, [0, 200, 200, 100, 100])\n",
    "x"
   ]
  },
  {
   "cell_type": "code",
   "execution_count": 4,
   "metadata": {},
   "outputs": [
    {
     "output_type": "execute_result",
     "data": {
      "text/plain": [
       "154.75113122171933"
      ]
     },
     "metadata": {},
     "execution_count": 4
    }
   ],
   "source": [
    "A = eq_capital_recovery(x, 0.1, 4)\n",
    "A"
   ]
  },
  {
   "cell_type": "code",
   "execution_count": 5,
   "metadata": {},
   "outputs": [
    {
     "output_type": "execute_result",
     "data": {
      "text/plain": [
       "1547.5113122171933"
      ]
     },
     "metadata": {},
     "execution_count": 5
    }
   ],
   "source": [
    "A/0.1\n"
   ]
  },
  {
   "cell_type": "code",
   "execution_count": 6,
   "metadata": {},
   "outputs": [
    {
     "output_type": "execute_result",
     "data": {
      "text/plain": [
       "FiniteSet(6.55608183674626)"
      ],
      "text/latex": "$\\displaystyle \\left\\{6.55608183674626\\right\\}$"
     },
     "metadata": {},
     "execution_count": 6
    }
   ],
   "source": [
    "#3\n",
    "n = sym.symbols('n')\n",
    "eq = 20000 - eq_present(5000, 0.15, n)\n",
    "solve(eq, n)"
   ]
  },
  {
   "cell_type": "code",
   "execution_count": 7,
   "metadata": {},
   "outputs": [
    {
     "output_type": "error",
     "ename": "NameError",
     "evalue": "name 'net_' is not defined",
     "traceback": [
      "\u001b[0;31m---------------------------------------------------------------------------\u001b[0m",
      "\u001b[0;31mNameError\u001b[0m                                 Traceback (most recent call last)",
      "\u001b[0;32m<ipython-input-7-6730d9962201>\u001b[0m in \u001b[0;36m<module>\u001b[0;34m\u001b[0m\n\u001b[0;32m----> 1\u001b[0;31m \u001b[0mpart1\u001b[0m \u001b[0;34m=\u001b[0m \u001b[0mnet_\u001b[0m\u001b[0;34m\u001b[0m\u001b[0;34m\u001b[0m\u001b[0m\n\u001b[0m",
      "\u001b[0;31mNameError\u001b[0m: name 'net_' is not defined"
     ]
    }
   ],
   "source": [
    "part1 = net_"
   ]
  }
 ]
}